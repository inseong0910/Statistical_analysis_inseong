{
 "cells": [
  {
   "cell_type": "code",
   "execution_count": 1,
   "id": "ef9ab156",
   "metadata": {},
   "outputs": [],
   "source": [
    "# 2개 이하의 집단에서 수치형 변수 평균의 일치성을 판단하는 t-검정 기법을 활용\n",
    "# 검정 통계량 산출 후 유의수준에 의거하여 통계적 의미를 해석"
   ]
  },
  {
   "cell_type": "code",
   "execution_count": 2,
   "id": "d5eea61f",
   "metadata": {},
   "outputs": [],
   "source": [
    "# 6-1. A쇼핑의 작년 VIP 고객들의 평균 구매액은 약 700만원\n",
    "# 이에 A쇼핑은 올해 VIP 고객들의 평균 구매액 목표를 약 10% 성장한 770만원으로 결정\n",
    "# 올해 VIP 고객들의 평균 구매액 목표치 770만원을 달성하였는지 판단하기 위해\n",
    "# 일표본 t-검정을 활용"
   ]
  },
  {
   "cell_type": "code",
   "execution_count": 5,
   "id": "eda7997c",
   "metadata": {},
   "outputs": [],
   "source": [
    "# H0 (귀무가설)= A쇼핑 VIP 고객들의 총 매출액 평균은  7,700,000원이다.\n",
    "# H1 (연구가설)= A쇼핑 VIP 고객들의 총 매출액 평균은  7,700,000원이 아니다."
   ]
  },
  {
   "cell_type": "code",
   "execution_count": 3,
   "id": "e0dd6af1",
   "metadata": {},
   "outputs": [
    {
     "name": "stdout",
     "output_type": "stream",
     "text": [
      "총매출액 평균 :  7068689.76\n",
      "TtestResult(statistic=-2.8657430145836003, pvalue=0.0042475861483265475, df=999)\n"
     ]
    }
   ],
   "source": [
    "# (1) 모듈 및 데이터 탑재\n",
    "import pandas as pd\n",
    "from scipy import stats\n",
    "df = pd.read_csv('Ashopping.csv',sep=',', encoding='CP949')\n",
    "\n",
    "# (2) 총매출액 평균 및 일표본 t-검정 \n",
    "print('총매출액 평균 : ',df.총_매출액.mean())\n",
    "print(stats.ttest_1samp(df['총_매출액'], 7700000))"
   ]
  },
  {
   "cell_type": "code",
   "execution_count": 6,
   "id": "3ed915c8",
   "metadata": {},
   "outputs": [],
   "source": [
    "# 일표본 t-검정 결과, A쇼핑 VIP 고객들의 총 매출액 산술평균값은 7,068,690원\n",
    "# t-value는 -2.86, 유의확률(pvalue)은 0.0042로 도출되었다.\n",
    "# 따라서 귀무가설이 기각되었고\n",
    "# A쇼핑 VIP 고객들의 총 매출액 평균은 7,700,000원이라고 \"할 수 없다\"(유의수준 0.01 수준)\n",
    "\n",
    "# 또한 A쇼핑 올해 VIP 고객들의 매출액 평균은 약 706만원이었다.\n",
    "# 이는 작년 매출액 평균과 거의 차이가 없으며 목표치를 달성하지 못했다는 뜻이다.\n",
    "# 따라서 A쇼핑이 목표치를 너무 과도하게 잡은 것은 아닌지 검토할 필요가 있고,\n",
    "# 경쟁사나 시장평균 성장률과 비교했을 때 A쇼핑의 실적이 상대적으로 낮은 것이라면\n",
    "# VIP 고객들의 매출액에 영향을 미치는 원인을 조사하여 적절한 매출신장 대책을 마련해야 한다."
   ]
  },
  {
   "cell_type": "code",
   "execution_count": 8,
   "id": "c114f8c2",
   "metadata": {},
   "outputs": [],
   "source": [
    "# 6-2 독립표본 t-검정\n",
    "# 분석 시나리오\n",
    "\n",
    "# A쇼핑의 마케팅 부서는 콜센터를 통해 접수된 클레임고객에 대한 특별한 마케팅을 기획하고자 한다.\n",
    "# 클레임고객은 상대적으로 매장을 찾는 횟수가 적어져 이탈위험도가 높을 것이라고 예상되기 때문이다.\n",
    "# 이를 위해 클레임 고객과 비클레임 고객간의 매장 방문 횟수가 실제로 차이가 있는지를 먼저 검증해야 한다.\n",
    "\n",
    "# H0 (귀무가설)= A쇼핑 클레임고객들과 비클레임 고객들의 방문횟수 차이는 없다.\n",
    "# H1 (연구가설)= A쇼핑 클레임고객들과 비클레임 고객들의 방문횟수 차이는 있다."
   ]
  },
  {
   "cell_type": "code",
   "execution_count": 9,
   "id": "b7404757",
   "metadata": {},
   "outputs": [
    {
     "data": {
      "text/plain": [
       "BartlettResult(statistic=13.626177910965525, pvalue=0.00022305349806448475)"
      ]
     },
     "execution_count": 9,
     "metadata": {},
     "output_type": "execute_result"
    }
   ],
   "source": [
    "# 6-2-1. 모듈 및 데이터 탑재\n",
    "import pandas as pd\n",
    "from scipy import stats\n",
    "import numpy as np\n",
    "\n",
    "# 6-2-2. 등분산검정\n",
    "no_claim = df[df.클레임접수여부== 0]\n",
    "df2 = np.array(no_claim.방문빈도)\n",
    "claim = df[df.클레임접수여부== 1]\n",
    "df3 = np.array(claim.방문빈도)\n",
    "stats.bartlett(df2,df3)"
   ]
  },
  {
   "cell_type": "code",
   "execution_count": 10,
   "id": "9ef7d571",
   "metadata": {},
   "outputs": [],
   "source": [
    "# 두 고객 그룹간 등분산 검정 결과, F값은 13.626, 유의확률은 0.05 미만으로 귀무가설이 기각되었다.\n",
    "# 따라서 두 집단의 분산은 동일하지 않은 것으로 나타났다.\n",
    "# 등분산성 검정 결과를 바탕으로 독립표본 t-검정을 실행했다."
   ]
  },
  {
   "cell_type": "code",
   "execution_count": 11,
   "id": "38c5d6c1",
   "metadata": {},
   "outputs": [
    {
     "name": "stdout",
     "output_type": "stream",
     "text": [
      "Ttest_indResult(statistic=2.595726838875684, pvalue=0.009577734932789503)\n",
      "클레임 접수여부(0) 고객 평균방문빈도 :  28.184842883548985\n",
      "클레임 접수여부(1) 고객 평균방문빈도 :  24.736383442265794\n"
     ]
    }
   ],
   "source": [
    "# 6-2-3. 독립표본 t-검정 및 방문빈도 평균\n",
    "print(stats.ttest_ind(df2, df3, equal_var=False))\n",
    "print('클레임 접수여부(0) 고객 평균방문빈도 : ',no_claim.방문빈도.mean())\n",
    "print('클레임 접수여부(1) 고객 평균방문빈도 : ',claim.방문빈도.mean())"
   ]
  },
  {
   "cell_type": "code",
   "execution_count": 12,
   "id": "378b6d82",
   "metadata": {},
   "outputs": [],
   "source": [
    "# 결과 : 먼저 두 고객 그룹간의 등분산성 검정 결과 F값 13.626, 유의확률 0.00022로 도출되어\n",
    "# 등분산 검정의 귀무가설이 기각되었으므로, 두 표본의 분산은 동일하다고 볼 수 없다.\n",
    "# 따라서 등분산이 가정되지 않은 t통계량을 확인하여 가설검증을 수행하였다. \n",
    "# 분석 결과, 클레임 접수 경험이 있는 고객(접수여부=1)의 평균 방문 횟수는 24.73회,\n",
    "# 클레임 접수 경험이 없는(접수여부=0) 고객의 평균 방문 횟수는 28.18회이며\n",
    "# 등분산 검정이 기각된 t-값은 2.60, 유의확률은 0.0096으로 도출되었다.\n",
    "# 따라서 귀무가설이 기각되어 클레임 접수 여부에 따라 방문 빈도는 차이가 있다고 할 수 있다. \n",
    "\n",
    "# 차이는 크지 않지만 통계적으로 유의한 차이가 있으므로 클레임 접수 고객에 대해 별도의 관리가 필요\n",
    "# 특히, 클레임 접수 고객이 VIP 고객이라면 클레임 접수 후 구매 빈도나 방문 횟수가 점차 줄어드는지 확인하여\n",
    "# 선제적 대응을 통해 고객 유지활동을 전개하는 것이 필요하다."
   ]
  },
  {
   "cell_type": "code",
   "execution_count": 13,
   "id": "8b7c86e0",
   "metadata": {},
   "outputs": [],
   "source": [
    "# 6-3 쌍체표본 t-검정\n",
    "# 분석 시나리오\n",
    "# A쇼핑 마케팅 팀에서는 그 동안 단순 포인트 적립 및 결제 시 차감 사용 방식으로 운영되어온\n",
    "# 멤버십 제도를 등급별 사은품 및 쿠폰 지급 기능이 추가된 전략적인 로열티 프로그램으로 개선하였다.\n",
    "# 이를 통한 고객들의 로열티 프로그램 만족도의 변화가 통계적으로 유의한 지 알아보기 위해 고객들의\n",
    "# 신규 멤버십 프로그램 도입 전과 도입 후의 고객만족도에 대한 쌍체표본 t-검정을 수행하고자 한다. \n",
    "\n",
    "# H0 (귀무가설)= A쇼핑 고객들의 멤버십프로그램 도입 전 만족도와 도입 후 만족도의 차이는 없다.\n",
    "# H1 (연구가설)= A쇼핑 고객들의 멤버십프로그램 도입 전 만족도와 도입 후 만족도의 차이는 있다."
   ]
  },
  {
   "cell_type": "code",
   "execution_count": 14,
   "id": "1c00451c",
   "metadata": {},
   "outputs": [
    {
     "data": {
      "text/plain": [
       "TtestResult(statistic=29.560410783358122, pvalue=1.7319140513197275e-138, df=999)"
      ]
     },
     "execution_count": 14,
     "metadata": {},
     "output_type": "execute_result"
    }
   ],
   "source": [
    "# 쌍체표본 t-검정 \n",
    "stats.ttest_rel(df['멤버쉽_프로그램_가입후_만족도'],df['멤버쉽_프로그램_가입전_만족도'])"
   ]
  },
  {
   "cell_type": "code",
   "execution_count": 15,
   "id": "fe5a2137",
   "metadata": {},
   "outputs": [],
   "source": [
    "# 쌍체표본 t-검정 결과 t-값은 29.560, 유의확률은 0.0001이하로 도출되었다. \n",
    "# 따라서, 귀무가설이 기각되어 신규 프로그램의 가입 전 고객만족도와 가입 후 고객만족도는 차이가 있다고 할 수 있다(유의수준 0.05수준).\n",
    "\n",
    "# 이를 통해 단순 포인트 중심의 멤버십 프로그램보다 \n",
    "# 고객 구매가 증대될수록 받는 사은품의 수준과 쿠폰 금액이 커지는 새로운 멤버십 프로그램을\n",
    "# 고객들이 더 선호하여 전반적인 고객만족도가 높아졌다는 점이 증명되었다. \n",
    "\n",
    "# A 쇼핑은 향후 기존에 적립되어 왔던 포인트 운영방식을 병행할 것인지, \n",
    "# 아니면 고객 동의 하에 사은품과 쿠폰지급으로 누적 포인트를 소진시킬 것인지에 대한 정책적인 의사결정이 필요할 것이다."
   ]
  },
  {
   "cell_type": "code",
   "execution_count": null,
   "id": "79fa1194",
   "metadata": {},
   "outputs": [],
   "source": []
  }
 ],
 "metadata": {
  "kernelspec": {
   "display_name": "Python 3 (ipykernel)",
   "language": "python",
   "name": "python3"
  },
  "language_info": {
   "codemirror_mode": {
    "name": "ipython",
    "version": 3
   },
   "file_extension": ".py",
   "mimetype": "text/x-python",
   "name": "python",
   "nbconvert_exporter": "python",
   "pygments_lexer": "ipython3",
   "version": "3.10.9"
  }
 },
 "nbformat": 4,
 "nbformat_minor": 5
}
