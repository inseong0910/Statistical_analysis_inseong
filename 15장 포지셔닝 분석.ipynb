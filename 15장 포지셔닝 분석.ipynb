{
 "cells": [
  {
   "cell_type": "code",
   "execution_count": 1,
   "id": "78e29017",
   "metadata": {},
   "outputs": [],
   "source": [
    "# 1. 다차원 척도법\n",
    "# 분석 시나리오 - ① 단순 경쟁구조 분석\n",
    "\n",
    "# A쇼핑의 포지셔닝 분석을 위해 6개의 주요 경쟁업체와 함께 단순 경쟁구조 분석을 수행해보도록 한다. \n",
    "# 자극점은 A사를 포함하여 총 7개의 쇼핑몰을, 속성은 이미지, 접근성, 서비스, 친절성, 편의시설, 인지도, 가격만족도 등 총 7개로 설정하여 \n",
    "# 고객들의 설문을 통해 데이터를 수집하였다."
   ]
  },
  {
   "cell_type": "code",
   "execution_count": 2,
   "id": "9675e3eb",
   "metadata": {},
   "outputs": [
    {
     "name": "stderr",
     "output_type": "stream",
     "text": [
      "C:\\Users\\USER\\anaconda3\\lib\\site-packages\\sklearn\\manifold\\_mds.py:601: UserWarning: The MDS API has changed. ``fit`` now constructs an dissimilarity matrix from data. To use a custom dissimilarity matrix, set ``dissimilarity='precomputed'``.\n",
      "  warnings.warn(\n",
      "C:\\Users\\USER\\anaconda3\\lib\\site-packages\\sklearn\\manifold\\_mds.py:299: FutureWarning: The default value of `normalized_stress` will change to `'auto'` in version 1.4. To suppress this warning, manually set the value of `normalized_stress`.\n",
      "  warnings.warn(\n",
      "C:\\Users\\USER\\anaconda3\\lib\\site-packages\\sklearn\\manifold\\_mds.py:601: UserWarning: The MDS API has changed. ``fit`` now constructs an dissimilarity matrix from data. To use a custom dissimilarity matrix, set ``dissimilarity='precomputed'``.\n",
      "  warnings.warn(\n",
      "C:\\Users\\USER\\anaconda3\\lib\\site-packages\\sklearn\\manifold\\_mds.py:299: FutureWarning: The default value of `normalized_stress` will change to `'auto'` in version 1.4. To suppress this warning, manually set the value of `normalized_stress`.\n",
      "  warnings.warn(\n"
     ]
    },
    {
     "data": {
      "text/plain": [
       "array([[-5.12747416, -0.46862067],\n",
       "       [-3.25268823,  1.50430496],\n",
       "       [ 3.52362088,  2.80304347],\n",
       "       [ 2.97433754, -7.052197  ],\n",
       "       [-3.84248425,  4.10485347],\n",
       "       [ 4.66327843, -5.74998855],\n",
       "       [ 1.06140978,  4.85860431]])"
      ]
     },
     "execution_count": 2,
     "metadata": {},
     "output_type": "execute_result"
    }
   ],
   "source": [
    "# 1. 모듈 및 데이터 탑재\n",
    "import pandas as pd\n",
    "from sklearn.manifold import MDS\n",
    "\n",
    "df = pd.read_csv('MDS1.csv', sep=',', encoding='CP949') \n",
    "\n",
    "\n",
    "\n",
    "# 2. 다차원척도법 분석(차원 좌표 값 계산)\n",
    "clf = MDS(n_components=2, random_state=123).fit(df.loc[:,'이미지':'가격만족도'])\n",
    "X_mds = clf.fit_transform(df.loc[:,'이미지':'가격만족도'])\n",
    "X_mds"
   ]
  },
  {
   "cell_type": "code",
   "execution_count": 3,
   "id": "0b537032",
   "metadata": {},
   "outputs": [],
   "source": [
    "# 아래에 '앞서 생성한 좌표 값'을 기준으로 단순 경쟁구조를 그래프로 표현"
   ]
  },
  {
   "cell_type": "code",
   "execution_count": 4,
   "id": "08e7c975",
   "metadata": {},
   "outputs": [
    {
     "data": {
      "text/plain": [
       "<matplotlib.collections.PathCollection at 0x2705a281960>"
      ]
     },
     "execution_count": 4,
     "metadata": {},
     "output_type": "execute_result"
    },
    {
     "data": {
      "image/png": "[encoded data removed]",
      "text/plain": [
       "<Figure size 640x480 with 1 Axes>"
      ]
     },
     "metadata": {},
     "output_type": "display_data"
    }
   ],
   "source": [
    "# 1. 모듈 및 패키지 불러오기\n",
    "import matplotlib \n",
    "import matplotlib.pylab as plt\n",
    "\n",
    "\n",
    "# 2. 한글깨짐현상 방지\n",
    "matplotlib.rcParams['font.family'] = 'Malgun Gothic'\n",
    "matplotlib.rcParams['axes.unicode_minus'] = False\n",
    "%matplotlib inline\n",
    "\n",
    "\n",
    "# 3. 단순 경쟁구조 시각화\n",
    "labels = df.shop\n",
    "for label, x_count, y_count in zip(labels, X_mds[:,0], X_mds[:,1]):\n",
    "    plt.annotate(label,\n",
    "                xycoords='data',\n",
    "                textcoords='offset points',\n",
    "                xy=(x_count, y_count), \n",
    "                xytext=(5,-5) )\n",
    "plt.xlabel('Dimension1')\n",
    "plt.ylabel('Dimension2')\n",
    "plt.scatter(X_mds[:,0], X_mds[:,1])"
   ]
  },
  {
   "cell_type": "code",
   "execution_count": 5,
   "id": "46b83348",
   "metadata": {},
   "outputs": [],
   "source": [
    "# 2. 속성-경쟁구조 분석\n",
    "# 앞서 단순 경쟁구조 분석 결과 각 쇼핑몰간의 경쟁구조를 파악할 수 있었지만, \n",
    "# 쇼핑몰의 어떤 속성관점에서 경쟁이 이루어지는지 알 수 없었다. \n",
    "# 이러한 쇼핑몰의 경쟁구조를 보다 정확하게 판단하기 위해서는 속성 역시 포지셔닝 맵에 표현해야 한다. \n",
    "# 이를 위해 속성-경쟁구조 분석을 위한 다차원 척도법을 실행해보자."
   ]
  },
  {
   "cell_type": "code",
   "execution_count": 6,
   "id": "99cf05bb",
   "metadata": {},
   "outputs": [
    {
     "name": "stderr",
     "output_type": "stream",
     "text": [
      "C:\\Users\\USER\\anaconda3\\lib\\site-packages\\sklearn\\manifold\\_mds.py:601: UserWarning: The MDS API has changed. ``fit`` now constructs an dissimilarity matrix from data. To use a custom dissimilarity matrix, set ``dissimilarity='precomputed'``.\n",
      "  warnings.warn(\n",
      "C:\\Users\\USER\\anaconda3\\lib\\site-packages\\sklearn\\manifold\\_mds.py:299: FutureWarning: The default value of `normalized_stress` will change to `'auto'` in version 1.4. To suppress this warning, manually set the value of `normalized_stress`.\n",
      "  warnings.warn(\n",
      "C:\\Users\\USER\\anaconda3\\lib\\site-packages\\sklearn\\manifold\\_mds.py:601: UserWarning: The MDS API has changed. ``fit`` now constructs an dissimilarity matrix from data. To use a custom dissimilarity matrix, set ``dissimilarity='precomputed'``.\n",
      "  warnings.warn(\n",
      "C:\\Users\\USER\\anaconda3\\lib\\site-packages\\sklearn\\manifold\\_mds.py:299: FutureWarning: The default value of `normalized_stress` will change to `'auto'` in version 1.4. To suppress this warning, manually set the value of `normalized_stress`.\n",
      "  warnings.warn(\n"
     ]
    },
    {
     "data": {
      "text/plain": [
       "array([[-1.03202434, -0.00641877,  0.54559765, -0.10043696],\n",
       "       [-0.53757021,  0.28266513,  0.12883623, -0.42074909],\n",
       "       [ 0.71120717,  0.32238053, -0.06935846,  0.37280673],\n",
       "       [ 0.19723554, -1.25906064, -0.61440613,  0.00507243],\n",
       "       [-0.51913327,  0.83498409, -0.1219796 , -0.48451721],\n",
       "       [ 0.69997592, -0.99534218, -0.17062737,  0.41435935],\n",
       "       [ 0.4803092 ,  0.82079184, -0.29692794, -0.32744816]])"
      ]
     },
     "execution_count": 6,
     "metadata": {},
     "output_type": "execute_result"
    }
   ],
   "source": [
    "# 2-1. 모듈 및 데이터 탑재\n",
    "import pandas as pd\n",
    "import statsmodels.formula.api as smf\n",
    "from sklearn.manifold import MDS\n",
    "import numpy as np\n",
    "\n",
    "df = pd.read_csv('MDS1.csv', sep=',', encoding='CP949') \n",
    "df1 = df.loc[:,'이미지':'가격만족도']\n",
    "df1 = (df1 - df1.min()) / (df1.max() - df1.min()) #정규화(요소값–최소값)/(최대값-최소값)\n",
    "\n",
    "\n",
    "# 2-2. 다차원척도법 분석(차원 좌표 값 계산)\n",
    "clf = MDS(n_components=2, random_state=123).fit(df1)\n",
    "X_mds = clf.fit_transform(df1) \n",
    "\n",
    "\n",
    "# 2-3. 속성 차원 좌표 값 계산\n",
    "df1['차원1'] = X_mds[:,0]\n",
    "df1['차원2'] = X_mds[:,1]\n",
    "model = []\n",
    "model.append(smf.ols(formula = '이미지 ~ 차원1+차원2', data = df1).fit( ))\n",
    "model.append(smf.ols(formula = '접근성 ~ 차원1+차원2', data = df1).fit( ))\n",
    "model.append(smf.ols(formula = '서비스 ~ 차원1+차원2', data = df1).fit( ))\n",
    "model.append(smf.ols(formula = '친절성 ~ 차원1+차원2', data = df1).fit( ))\n",
    "model.append(smf.ols(formula = '편의시설 ~ 차원1+차원2', data = df1).fit( ))\n",
    "model.append(smf.ols(formula = '인지도 ~ 차원1+차원2', data = df1).fit( ))\n",
    "model.append(smf.ols(formula = '가격만족도 ~ 차원1+차원2', data = df1).fit( ))\n",
    "속성 = []\n",
    "for i in range(0,7,1):\n",
    "   속성.append([model[i].params[1], model[i].params[2]])\n",
    "속성 = np.array(속성)\n",
    "자극점및속성 = np.hstack([X_mds,속성])\n",
    "자극점및속성"
   ]
  },
  {
   "cell_type": "code",
   "execution_count": 7,
   "id": "a5cd74a9",
   "metadata": {},
   "outputs": [
    {
     "data": {
      "text/plain": [
       "<matplotlib.collections.PathCollection at 0x270533835e0>"
      ]
     },
     "execution_count": 7,
     "metadata": {},
     "output_type": "execute_result"
    },
    {
     "data": {
      "image/png": "[encoded data removed]",
      "text/plain": [
       "<Figure size 640x480 with 1 Axes>"
      ]
     },
     "metadata": {},
     "output_type": "display_data"
    }
   ],
   "source": [
    "# 2-4. 그래프로 표현\n",
    "# 1. 모듈 및 패키지 불러오기\n",
    "import matplotlib \n",
    "import matplotlib.pylab as plt\n",
    "\n",
    "\n",
    "# 2. 한글깨짐현상 방지\n",
    "matplotlib.rcParams['font.family'] = 'Malgun Gothic'\n",
    "matplotlib.rcParams['axes.unicode_minus'] = False\n",
    "%matplotlib inline\n",
    "\n",
    "\n",
    "# 3. 속성-경쟁구조 시각화\n",
    "labels = df.shop\n",
    "for label, x_count, y_count in zip(labels, 자극점및속성[:,0], 자극점및속성[:,1]):\n",
    "    plt.annotate(label,\n",
    "                xycoords='data',\n",
    "                textcoords='offset points',\n",
    "                xy=(x_count, y_count), \n",
    "                xytext=(5,-5) ) \n",
    "labels2 = df1.columns\n",
    "for label, x_count, y_count in zip(labels2, 자극점및속성[:,2], 자극점및속성[:,3]):\n",
    "    plt.annotate(label,\n",
    "                xycoords='data',\n",
    "                textcoords='offset points',\n",
    "                xy=(x_count, y_count), \n",
    "                xytext=(5,-5) ) \n",
    "plt.xlabel('Dimension1')\n",
    "plt.ylabel('Dimension2')\n",
    "plt.scatter(자극점및속성[:,0], 자극점및속성[:,1]) #자극점 좌표 그래프\n",
    "plt.scatter(자극점및속성[:,2], 자극점및속성[:,3]) #속성 좌표 그래프"
   ]
  },
  {
   "cell_type": "code",
   "execution_count": 8,
   "id": "3d79a5df",
   "metadata": {},
   "outputs": [],
   "source": [
    "# 결과\n",
    "# A 쇼핑몰은 친절성에 상당히 경쟁력이 있는 반면, 이미지나 접근성 관점에서는 다소 경쟁력이 약함을 알 수 있다."
   ]
  },
  {
   "cell_type": "code",
   "execution_count": 9,
   "id": "b68d7cb8",
   "metadata": {},
   "outputs": [],
   "source": [
    "# 3. 이상점-경쟁구조 분석\n",
    "# 이번에는 기업간의 경쟁구조에 고객들의 선호위치도 함께 표현해줄 수 있는 \n",
    "# 이상점-경쟁구조 분석을 위한 다차원 척도법을 실행해보도록 하자."
   ]
  },
  {
   "cell_type": "code",
   "execution_count": 10,
   "id": "71a0bba1",
   "metadata": {},
   "outputs": [
    {
     "name": "stderr",
     "output_type": "stream",
     "text": [
      "C:\\Users\\USER\\anaconda3\\lib\\site-packages\\sklearn\\manifold\\_mds.py:601: UserWarning: The MDS API has changed. ``fit`` now constructs an dissimilarity matrix from data. To use a custom dissimilarity matrix, set ``dissimilarity='precomputed'``.\n",
      "  warnings.warn(\n",
      "C:\\Users\\USER\\anaconda3\\lib\\site-packages\\sklearn\\manifold\\_mds.py:299: FutureWarning: The default value of `normalized_stress` will change to `'auto'` in version 1.4. To suppress this warning, manually set the value of `normalized_stress`.\n",
      "  warnings.warn(\n",
      "C:\\Users\\USER\\anaconda3\\lib\\site-packages\\sklearn\\manifold\\_mds.py:299: FutureWarning: The default value of `normalized_stress` will change to `'auto'` in version 1.4. To suppress this warning, manually set the value of `normalized_stress`.\n",
      "  warnings.warn(\n"
     ]
    },
    {
     "name": "stdout",
     "output_type": "stream",
     "text": [
      "자극점 차원좌표\n",
      " [[-5.12747416 -0.46862067]\n",
      " [-3.25268823  1.50430496]\n",
      " [ 3.52362088  2.80304347]\n",
      " [ 2.97433754 -7.052197  ]\n",
      " [-3.84248425  4.10485347]\n",
      " [ 4.66327843 -5.74998855]\n",
      " [ 1.06140978  4.85860431]]\n",
      "이상점 차원좌표\n",
      " [[ 2.7354006   5.32664303]\n",
      " [-2.1360224   8.10491964]\n",
      " [ 1.37383444  4.75440488]\n",
      " [ 4.78027733  5.39841786]\n",
      " [-2.92935293  3.70632116]\n",
      " [ 2.02096498  0.57066523]\n",
      " [ 0.39901568  7.96677486]\n",
      " [-0.61295079  4.04795287]\n",
      " [-2.36529377  4.93922075]\n",
      " [ 6.77540745  2.17586621]\n",
      " [ 0.29473788  0.04065551]\n",
      " [-1.45123385  5.35814723]\n",
      " [-1.4889586   8.25325437]\n",
      " [-1.07423428  6.06453624]\n",
      " [-3.9547524   5.92929406]\n",
      " [ 1.94467614  5.85439476]\n",
      " [ 1.22661102  7.29280422]\n",
      " [ 3.20492898  3.22704961]\n",
      " [ 2.4826813   6.52333136]\n",
      " [-3.51732761  2.44092723]\n",
      " [ 2.6988953   2.45424353]\n",
      " [ 3.81546557  6.13831542]\n",
      " [ 3.53811235 -0.85511417]\n",
      " [ 1.27213181  3.47618695]\n",
      " [-4.19946686  6.41042256]\n",
      " [ 2.29587709  4.03529425]\n",
      " [ 4.91748167  4.39896309]\n",
      " [ 5.01613395  5.48260971]\n",
      " [-2.54316507  3.9255062 ]\n",
      " [ 0.05658891  3.28729962]\n",
      " [ 5.4492554   4.22253386]\n",
      " [ 4.31687949  4.33394007]\n",
      " [ 0.88481469  1.26901552]\n",
      " [ 1.49358822 -0.76119487]\n",
      " [-2.86045542  5.43175374]\n",
      " [-0.62934184  1.14003613]\n",
      " [-0.09832339  6.19397571]\n",
      " [-0.69261133 -3.9685802 ]\n",
      " [-0.07178093 -9.34098032]\n",
      " [ 2.44773066 -7.67145608]\n",
      " [ 0.51229136 -3.11412595]\n",
      " [-3.56919779 -6.34255105]\n",
      " [ 2.05956076 -4.76897744]\n",
      " [ 2.76345601 -6.6089486 ]\n",
      " [-4.11759501 -7.85162886]\n",
      " [-6.29058055 -7.39329161]\n",
      " [-9.42082624  5.22507626]\n",
      " [ 1.24176642 -7.84060946]\n",
      " [ 1.2548466  -2.95160741]\n",
      " [-2.4129162  -6.09663557]\n",
      " [-2.84201048  2.79930784]\n",
      " [-3.62805937 -3.02843513]\n",
      " [ 6.71867111 -2.05129609]\n",
      " [ 7.42457426  0.52506666]\n",
      " [ 6.8547687   0.25299737]\n",
      " [ 4.885816   -2.78496091]\n",
      " [ 1.36377031 -4.94317663]\n",
      " [ 5.50699239 -5.73231028]\n",
      " [ 1.63638052 -1.75958448]\n",
      " [ 8.43421647  1.03784307]\n",
      " [ 6.63257365 -4.22288   ]\n",
      " [ 3.75672675 -2.00227744]\n",
      " [ 8.16859281  2.33194169]\n",
      " [ 6.37804413 -3.14847711]\n",
      " [ 4.35802721  1.78077109]\n",
      " [ 7.12330112 -6.24093804]\n",
      " [ 5.04148375 -5.94270968]\n",
      " [ 8.35550363 -2.01077817]\n",
      " [ 6.78665509 -3.64999263]\n",
      " [-0.13085409 -3.88922013]\n",
      " [ 5.11458633 -1.51163625]\n",
      " [ 3.7278756  -3.74572642]\n",
      " [-0.86192736 -6.41443598]\n",
      " [ 7.6026308  -2.46946161]\n",
      " [ 5.37037972  0.43664255]\n",
      " [-4.17484889 -0.84822724]\n",
      " [-8.21020731  2.94152767]\n",
      " [-2.52715626  0.80878667]\n",
      " [-7.27567433  1.16853405]\n",
      " [-5.65332634 -4.3719125 ]\n",
      " [-5.70705086 -2.31529904]\n",
      " [-6.47598588 -0.34836533]\n",
      " [-3.843803   -1.55913715]\n",
      " [-1.90425255 -3.66393684]\n",
      " [-7.45938628 -2.30228603]\n",
      " [-5.6128818   2.74763876]\n",
      " [-8.90758641 -2.38169171]\n",
      " [-2.53499065 -4.89519488]\n",
      " [-3.7565938  -3.88268735]\n",
      " [-8.1087701   0.3967097 ]\n",
      " [-6.25235851  2.14266632]\n",
      " [-1.65389899 -0.9786758 ]\n",
      " [-8.43528289 -0.59459588]\n",
      " [-1.46085296 -0.34504526]\n",
      " [-2.05442799 -7.74143376]\n",
      " [-7.90106693 -2.98574578]\n",
      " [-6.47626338 -3.06717508]\n",
      " [-2.86006671 -5.21279519]\n",
      " [-5.54954588  4.29874022]\n",
      " [-5.81946514 -0.46172396]]\n"
     ]
    }
   ],
   "source": [
    "# 1. 모듈 및 데이터 탑재\n",
    "import pandas as pd\n",
    "from sklearn.manifold import MDS\n",
    "df1 = pd.read_csv('MDS1.csv', sep=',', encoding='CP949')\n",
    "df3 = pd.read_csv('MDS3.csv', sep=',', encoding='CP949') \n",
    "\n",
    "\n",
    "# 2. 다차원척도법 분석(좌표 값 계산)\n",
    "clf = MDS(n_components=2, random_state=123)\n",
    "X_mds1 = clf.fit_transform(df1.loc[:,'이미지':'가격만족도'])\n",
    "X_mds3 = clf.fit_transform(df3.loc[:,'A쇼핑':'G쇼핑'])\n",
    "print('자극점 차원좌표\\n',X_mds1)\n",
    "print('이상점 차원좌표\\n',X_mds3)"
   ]
  },
  {
   "cell_type": "code",
   "execution_count": 11,
   "id": "ed7f6c83",
   "metadata": {},
   "outputs": [
    {
     "data": {
      "text/plain": [
       "<matplotlib.legend.Legend at 0x2705ba6a230>"
      ]
     },
     "execution_count": 11,
     "metadata": {},
     "output_type": "execute_result"
    },
    {
     "data": {
      "image/png": "[encoded data removed]",
      "text/plain": [
       "<Figure size 640x480 with 1 Axes>"
      ]
     },
     "metadata": {},
     "output_type": "display_data"
    }
   ],
   "source": [
    "# 3. 그래프로 표현\n",
    "# 3-1. 모듈 및 패키지 불러오기\n",
    "import matplotlib \n",
    "import matplotlib.pylab as plt\n",
    "\n",
    "\n",
    "# 3-2. 한글깨짐현상 방지\n",
    "matplotlib.rcParams['font.family'] = 'Malgun Gothic'\n",
    "matplotlib.rcParams['axes.unicode_minus'] = False\n",
    "%matplotlib inline\n",
    "\n",
    "\n",
    "# 3-3. 이상점-경쟁구조 시각화\n",
    "labels = df1.shop\n",
    "for label, x_count, y_count in zip(labels, X_mds1[:,0], X_mds1[:,1]):\n",
    "    plt.annotate(label,\n",
    "                xycoords='data',\n",
    "                textcoords='offset points',\n",
    "                xy=(x_count, y_count), \n",
    "                xytext=(5,-5) ) \n",
    "plt.xlabel('Dimension1')\n",
    "plt.ylabel('Dimension2')\n",
    "plt.scatter(X_mds1[:,0],X_mds1[:,1])\n",
    "plt.scatter(X_mds3[:,0],X_mds3[:,1],label='이상점')\n",
    "plt.scatter(X_mds3[:,0].mean(),X_mds3[:,1].mean(),label='평균 이상점')\n",
    "plt.legend(loc='upper right')"
   ]
  },
  {
   "cell_type": "code",
   "execution_count": 12,
   "id": "7a12ccf3",
   "metadata": {},
   "outputs": [],
   "source": [
    "# 4. 상응분석 - 단순 상응분석\n",
    "# 먼저 슬로프 난이도를 기준으로 국내 각 리조트의 경쟁관계 혹은 포지셔닝을 살펴보는 단순 상응분석을 진행해보자."
   ]
  },
  {
   "cell_type": "code",
   "execution_count": 21,
   "id": "40f9b6f6",
   "metadata": {},
   "outputs": [
    {
     "name": "stdout",
     "output_type": "stream",
     "text": [
      "리조트 기준 차원좌표\n",
      "                0         1\n",
      "resort                    \n",
      "대명     -0.297192  0.064504\n",
      "리솜     -0.079668 -0.052946\n",
      "무주     -0.496362 -0.067862\n",
      "용평      0.554549 -0.155482\n",
      "한화      0.318672  0.211785\n",
      "\n",
      "슬로프 기준 차원좌표\n",
      "                 0         1\n",
      "slope                      \n",
      "Slope-H  0.256394  0.155651\n",
      "Slope-L -0.515052 -0.012403\n",
      "Slope-M  0.327482 -0.161521\n"
     ]
    }
   ],
   "source": [
    "# 4-1. 모듈 및 데이터 탑재\n",
    "import pandas as pd\n",
    "import prince\n",
    "cor = pd.read_csv('Correspondence.csv', sep=',', encoding='CP949') \n",
    "X=pd.crosstab(cor.resort, cor.slope, margins=False)\n",
    "\n",
    "\n",
    "# 4-2. 단순 상응분석(차원 좌표 값 계산)\n",
    "import prince\n",
    "ca = prince.CA(n_components=2).fit(X)\n",
    "print('리조트 기준 차원좌표\\n',ca.row_coordinates(X))\n",
    "print('\\n슬로프 기준 차원좌표\\n',ca.column_coordinates(X))"
   ]
  },
  {
   "cell_type": "code",
   "execution_count": 22,
   "id": "5af68937",
   "metadata": {},
   "outputs": [],
   "source": [
    "# !pip install prince"
   ]
  },
  {
   "cell_type": "code",
   "execution_count": 39,
   "id": "feaf0fb0",
   "metadata": {},
   "outputs": [
    {
     "ename": "AttributeError",
     "evalue": "'CA' object has no attribute 'plot_coordinates'",
     "output_type": "error",
     "traceback": [
      "\u001b[1;31m---------------------------------------------------------------------------\u001b[0m",
      "\u001b[1;31mAttributeError\u001b[0m                            Traceback (most recent call last)",
      "Cell \u001b[1;32mIn[39], line 9\u001b[0m\n\u001b[0;32m      6\u001b[0m matplotlib\u001b[38;5;241m.\u001b[39mrcParams[\u001b[38;5;124m'\u001b[39m\u001b[38;5;124mfont.family\u001b[39m\u001b[38;5;124m'\u001b[39m] \u001b[38;5;241m=\u001b[39m \u001b[38;5;124m'\u001b[39m\u001b[38;5;124mMalgun Gothic\u001b[39m\u001b[38;5;124m'\u001b[39m\n\u001b[0;32m      8\u001b[0m \u001b[38;5;66;03m# 3. 단순 상응분석 시각화\u001b[39;00m\n\u001b[1;32m----> 9\u001b[0m \u001b[43mca\u001b[49m\u001b[38;5;241;43m.\u001b[39;49m\u001b[43mplot_coordinates\u001b[49m(X\u001b[38;5;241m=\u001b[39mX, figsize\u001b[38;5;241m=\u001b[39m(\u001b[38;5;241m10\u001b[39m, \u001b[38;5;241m7\u001b[39m), show_row_labels\u001b[38;5;241m=\u001b[39m\u001b[38;5;28;01mTrue\u001b[39;00m, show_col_labels\u001b[38;5;241m=\u001b[39m\u001b[38;5;28;01mTrue\u001b[39;00m)\n",
      "\u001b[1;31mAttributeError\u001b[0m: 'CA' object has no attribute 'plot_coordinates'"
     ]
    }
   ],
   "source": [
    "# 4-3. 그래프로 나타내기\n",
    "# 1. 패키지 불러오기\n",
    "import matplotlib \n",
    "\n",
    "# 2. 한글깨짐현상 방지\n",
    "matplotlib.rcParams['font.family'] = 'Malgun Gothic'\n",
    "\n",
    "# 3. 단순 상응분석 시각화\n",
    "ca.plot_coordinates(X=X, figsize=(10, 7), show_row_labels=True, show_col_labels=True)"
   ]
  },
  {
   "cell_type": "code",
   "execution_count": 40,
   "id": "253734df",
   "metadata": {},
   "outputs": [],
   "source": [
    "# 이 오류는 CA 객체에 plot_coordinates라는 메서드가 없다는 것을 의미합니다. \n",
    "# 이는 사용하는 상응분석(Correspondence Analysis) 라이브러리에서 해당 메서드를 지원하지 않기 때문일 수 있습니다."
   ]
  },
  {
   "cell_type": "code",
   "execution_count": 41,
   "id": "50a86e25",
   "metadata": {},
   "outputs": [],
   "source": [
    "# 5. 다중 상응분석\n",
    "# 리조트 간의 경쟁관계를 슬로프 수준뿐만 아니라 교통편의성, 숙박편의성, 기타편의성 등 다른 요인을 동시에 고려하여 \n",
    "# 리조트 간의 포지셔닝을 살펴보도록 하자."
   ]
  },
  {
   "cell_type": "code",
   "execution_count": 42,
   "id": "e9c87962",
   "metadata": {},
   "outputs": [
    {
     "name": "stdout",
     "output_type": "stream",
     "text": [
      "\n",
      "각 변수별 차원좌표\n",
      "                           0         1\n",
      "id_2              -0.329924 -0.917655\n",
      "id_3              -0.750797  1.101125\n",
      "id_4              -1.059873  0.774037\n",
      "id_5              -1.261131  0.483018\n",
      "id_6              -0.838453  0.475164\n",
      "...                     ...       ...\n",
      "lodging_Lodging-L -0.498824  0.443290\n",
      "lodging_Lodging-M -0.057459  0.238564\n",
      "etc_Etc-H          1.159324 -0.160972\n",
      "etc_Etc-L         -0.514376 -0.502025\n",
      "etc_Etc-M         -0.350265  0.458238\n",
      "\n",
      "[66 rows x 2 columns]\n"
     ]
    }
   ],
   "source": [
    "#1. 모듈 및 데이터 탑재\n",
    "import pandas as pd\n",
    "import prince\n",
    "cor = pd.read_csv('Correspondence.csv', sep=',', encoding='CP949') \n",
    "X=cor.loc[1:]\n",
    "\n",
    "\n",
    "#2. 다중 상응분석(차원 좌표 값 계산)\n",
    "mca = prince.MCA(n_components=2).fit(X)\n",
    "print('\\n각 변수별 차원좌표\\n',mca.column_coordinates(X))"
   ]
  },
  {
   "cell_type": "code",
   "execution_count": 43,
   "id": "12a7cc6b",
   "metadata": {},
   "outputs": [
    {
     "ename": "AttributeError",
     "evalue": "'MCA' object has no attribute 'plot_coordinates'",
     "output_type": "error",
     "traceback": [
      "\u001b[1;31m---------------------------------------------------------------------------\u001b[0m",
      "\u001b[1;31mAttributeError\u001b[0m                            Traceback (most recent call last)",
      "Cell \u001b[1;32mIn[43], line 8\u001b[0m\n\u001b[0;32m      5\u001b[0m matplotlib\u001b[38;5;241m.\u001b[39mrcParams[\u001b[38;5;124m'\u001b[39m\u001b[38;5;124mfont.family\u001b[39m\u001b[38;5;124m'\u001b[39m] \u001b[38;5;241m=\u001b[39m \u001b[38;5;124m'\u001b[39m\u001b[38;5;124mMalgun Gothic\u001b[39m\u001b[38;5;124m'\u001b[39m\n\u001b[0;32m      7\u001b[0m \u001b[38;5;66;03m#3. 다중 상응분석 시각화\t\u001b[39;00m\n\u001b[1;32m----> 8\u001b[0m \u001b[43mmca\u001b[49m\u001b[38;5;241;43m.\u001b[39;49m\u001b[43mplot_coordinates\u001b[49m(X\u001b[38;5;241m=\u001b[39mX, show_column_labels\u001b[38;5;241m=\u001b[39m\u001b[38;5;28;01mTrue\u001b[39;00m)\n",
      "\u001b[1;31mAttributeError\u001b[0m: 'MCA' object has no attribute 'plot_coordinates'"
     ]
    }
   ],
   "source": [
    "#1. 모듈 및 패키지 불러오기\n",
    "import matplotlib \n",
    "\n",
    "#2. 한글깨짐현상 방지\n",
    "matplotlib.rcParams['font.family'] = 'Malgun Gothic'\n",
    "\n",
    "#3. 다중 상응분석 시각화\t\n",
    "mca.plot_coordinates(X=X, show_column_labels=True)"
   ]
  },
  {
   "cell_type": "code",
   "execution_count": null,
   "id": "2f6b6bd2",
   "metadata": {},
   "outputs": [],
   "source": []
  }
 ],
 "metadata": {
  "kernelspec": {
   "display_name": "Python 3 (ipykernel)",
   "language": "python",
   "name": "python3"
  },
  "language_info": {
   "codemirror_mode": {
    "name": "ipython",
    "version": 3
   },
   "file_extension": ".py",
   "mimetype": "text/x-python",
   "name": "python",
   "nbconvert_exporter": "python",
   "pygments_lexer": "ipython3",
   "version": "3.10.9"
  }
 },
 "nbformat": 4,
 "nbformat_minor": 5
}
