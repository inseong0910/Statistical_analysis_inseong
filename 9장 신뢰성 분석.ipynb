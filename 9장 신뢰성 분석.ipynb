{
 "cells": [
  {
   "cell_type": "code",
   "execution_count": 1,
   "id": "f19f6e81",
   "metadata": {},
   "outputs": [],
   "source": [
    "# 신뢰성 분석 : 측정 도구의 신뢰도를 판단"
   ]
  },
  {
   "cell_type": "code",
   "execution_count": 2,
   "id": "c43ca8fa",
   "metadata": {},
   "outputs": [],
   "source": [
    "# 1. 내적 일관성 분석\n",
    "# 분석 시나리오\n",
    "# A쇼핑에서는 최근 오프라인 매장이 증대함에 따라 고객접점에서의 고객응대가 더욱 중요시 되고 있다. \n",
    "# 이에 따라 A쇼핑에서는 매장에서 고객의 직원에 대한 만족도를 평가하고, 이에 따라 적절한 직원교육 체계를 마련하고자 한다. \n",
    "# A쇼핑은 우선 직원에 대한 만족도를 평가하기 위해 친절성, 신속성, 책임성, 정확성, \n",
    "# 그리고 전문성을 측정하는 측정항목을 개발하여 조사를 실시하였고, \n",
    "# 이렇게 5개 항목으로 구성된 직원에 대한 만족도 평가가 신뢰성 있는 조사인지 확인하기 위해 내적일관성 분석을 수행하고자 한다."
   ]
  },
  {
   "cell_type": "code",
   "execution_count": 3,
   "id": "be22c552",
   "metadata": {},
   "outputs": [
    {
     "data": {
      "text/plain": [
       "(0.8117458883194828, array([0.793, 0.83 ]))"
      ]
     },
     "execution_count": 3,
     "metadata": {},
     "output_type": "execute_result"
    }
   ],
   "source": [
    "# 1-1. 모듈 및 데이터 탑재\n",
    "import pandas as pd\n",
    "import pingouin as pg\n",
    "df = pd.read_csv('Ashopping.csv',sep=',', encoding='CP949')\n",
    "X = df[['친절성', '신속성', '책임성', '정확성', '전문성']]\n",
    "\n",
    "# 1-2. 크론바흐 알파 계수 출력\n",
    "pg.cronbach_alpha(data=X)"
   ]
  },
  {
   "cell_type": "code",
   "execution_count": 4,
   "id": "e18cbbe6",
   "metadata": {},
   "outputs": [
    {
     "name": "stdout",
     "output_type": "stream",
     "text": [
      "(0.8057989412964606, array([0.785, 0.825]))\n",
      "(0.783641011586137, array([0.761, 0.805]))\n",
      "(0.7811976111855438, array([0.758, 0.803]))\n",
      "(0.7713180205968039, array([0.747, 0.794]))\n",
      "(0.7341054622297102, array([0.706, 0.76 ]))\n"
     ]
    }
   ],
   "source": [
    "# 1-3. 각 변수를 제외한 크론바흐 알파 계수 출력\n",
    "X1 = df[['신속성', '책임성', '정확성', '전문성']]\n",
    "X2 = df[['친절성', '책임성', '정확성', '전문성']]\n",
    "X3 = df[['친절성', '신속성', '정확성', '전문성']]\n",
    "X4 = df[['친절성', '신속성', '책임성', '전문성']]\n",
    "X5 = df[['친절성', '신속성', '책임성', '정확성']]\n",
    "\n",
    "print(pg.cronbach_alpha(data=X1))\n",
    "print(pg.cronbach_alpha(data=X2))\n",
    "print(pg.cronbach_alpha(data=X3))\n",
    "print(pg.cronbach_alpha(data=X4))\n",
    "print(pg.cronbach_alpha(data=X5))"
   ]
  },
  {
   "cell_type": "code",
   "execution_count": 5,
   "id": "ecdad669",
   "metadata": {},
   "outputs": [],
   "source": [
    "# 1-4. 결과\n",
    "# 신뢰성 분석 결과 A 쇼핑 직원들에 대한 만족도의 전체 크론바흐 계수는 원데이터 기준 0.811746이다. \n",
    "# 따라서, 현재의 측정항목들로 구성된 직원들에 대한 만족도 평가는 신뢰성 있는 측정도구로 구성되어 있다고 판단할 수 있다.\n",
    "\n",
    "# 한편, 5가지 변수를 모두 사용한 전체 크론바흐 & 계수와 각 변수를 제외했을 경우의 변화된 크론바흐 계수 값을 비교했을 때 \n",
    "# 어떠한 변수를 제거하여도 크론바흐 & 계수가 높아지지 않으며, \n",
    "# 오히려 각 항목을 제거하였을 때 크론바흐 & 계수가 더 낮아지는 것을 확인할 수 있다. \n",
    "# 따라서, 신뢰성 분석 결과 친절성, 신속성, 책임성, 정확성, 전문성에 대한 측정항목 모두를 사용하는 것이 \n",
    "# 가장 적절한 직원에 대한 만족도 평가임을 알 수 있다."
   ]
  },
  {
   "cell_type": "code",
   "execution_count": null,
   "id": "3f3e9cfa",
   "metadata": {},
   "outputs": [],
   "source": []
  }
 ],
 "metadata": {
  "kernelspec": {
   "display_name": "Python 3 (ipykernel)",
   "language": "python",
   "name": "python3"
  },
  "language_info": {
   "codemirror_mode": {
    "name": "ipython",
    "version": 3
   },
   "file_extension": ".py",
   "mimetype": "text/x-python",
   "name": "python",
   "nbconvert_exporter": "python",
   "pygments_lexer": "ipython3",
   "version": "3.10.9"
  }
 },
 "nbformat": 4,
 "nbformat_minor": 5
}
