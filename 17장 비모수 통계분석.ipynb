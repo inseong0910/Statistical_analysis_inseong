{
 "cells": [
  {
   "cell_type": "code",
   "execution_count": 1,
   "id": "0a656d4a",
   "metadata": {},
   "outputs": [],
   "source": [
    "# 1. 적합도 검정\n",
    "# 분석 시나리오 - ① RUN 검정\n",
    "\n",
    "# A 쇼핑은 본점의 1층 화장품 매장 중 S 브랜드의 신제품 런칭 이벤트를 지원하기 위하여 상품권 1만원권을 매장 방문고객에게 배포하였다. \n",
    "# 단, 상품권 배포 조건은 A 쇼핑몰의 멤버십을 소지하고 있는 고객이었다. \n",
    "# 매장 오픈 후 최초 20명의 방문이력을 조사한 결과 아래의 순서로 맴버십을 소지한 사람 (1)과 소지하지 않은 사람 (0)이 방문하였다. \n",
    "# A쇼핑몰의 CRM 팀에서는 이러한 마케팅 행사가 공정하게 이루어졌는지를 판단하기 위해 런 검정을 실시하고자 한다. \n",
    "\n",
    "#### H0 (귀무가설)= 멤버십 소지 고객과 비소지 고객의 방문은 무작위로 이루어졌다. \n",
    "#### H1 (연구가설)= 멤버십 소지 고객과 비소지 고객의 방문은 무작위로 이루어지지 않았다."
   ]
  },
  {
   "cell_type": "code",
   "execution_count": 2,
   "id": "02c9f9aa",
   "metadata": {},
   "outputs": [
    {
     "data": {
      "text/plain": [
       "(-1.8277470669267506, 0.06758752074917526)"
      ]
     },
     "execution_count": 2,
     "metadata": {},
     "output_type": "execute_result"
    }
   ],
   "source": [
    "# 1-1. 모듈 및 데이터 탑재\n",
    "from statsmodels.sandbox.stats.runs import Runs\n",
    "import numpy as np\n",
    "x = [1,0,0,0,0,1,1,1,1,0,0,0,0,1,1,0,0,0,0,0]\n",
    "x = np.array(x)\n",
    "\n",
    "# 1-2. RUN 검정 분석\n",
    "Runs(x).runs_test()"
   ]
  },
  {
   "cell_type": "code",
   "execution_count": 3,
   "id": "681ad27a",
   "metadata": {},
   "outputs": [],
   "source": [
    "# 분석 시나리오 - ② Kolmogorov-Smirnov 검정 (단일표본)\n",
    "\n",
    "# T 여행사는 최근 개발한 북극탐험 여행 패키지 상품에 대한 만족도를 조사하기 위해 40명의 참가고객들을 대상으로 설문을 응답 받았다.\n",
    "# 100점 만점으로 평가한 고객만족도 점수는 아래와 같다. \n",
    "# T 여행사는 다양한 마케팅 가설검증을 하기에 앞서 우선 이 고객설문 결과가\n",
    "# 기존의 고객만족도 설문 결과와 같이 정규분포성을 띄는지 확인하기 위해 Kolmogorov-Smirnov 검정을 수행해보고자 한다."
   ]
  },
  {
   "cell_type": "code",
   "execution_count": 4,
   "id": "fb648a5f",
   "metadata": {},
   "outputs": [],
   "source": [
    "# 이를 위해 다음과 같이 가설을 수립할 수 있다.\n",
    "#### H0 (귀무가설)= T여행사 고객들의 고객만족도점수는 정규분포를 따른다.\n",
    "#### H1 (연구가설)= T여행사 고객들의 고객만족도점수는 정규분포를 따르지 않는다."
   ]
  },
  {
   "cell_type": "code",
   "execution_count": 5,
   "id": "31925836",
   "metadata": {},
   "outputs": [
    {
     "data": {
      "text/plain": [
       "(0.16508249090030575, 0.007856999983881514)"
      ]
     },
     "execution_count": 5,
     "metadata": {},
     "output_type": "execute_result"
    }
   ],
   "source": [
    "# 2-1. 모듈 및 데이터 탑재\n",
    "from statsmodels.stats.diagnostic import kstest_normal\n",
    "import numpy as np \n",
    "x = [88,75,79,84,68,51,70,75,88,90,92,88,63,72,94,80,78,98,81,67,85,87,79,81,85,48,79,86,53,100,87,80,80,32,60,75,62,82,40,57]\n",
    "x = np.array(x)\n",
    "\n",
    "\n",
    "# 2-2. Kolmogorov-Smirnov 검정 분석\n",
    "kstest_normal(x, dist='norm')"
   ]
  },
  {
   "cell_type": "code",
   "execution_count": 6,
   "id": "a3712c00",
   "metadata": {},
   "outputs": [],
   "source": [
    "# 3. 동질성 검정\n",
    "# 분석 시나리오 - ① Wilcoxon 부호-순위 검정\n",
    "\n",
    "# 전자회사 C사는 기존의 물류 알고리즘보다 개선되었다고 알려진\n",
    "# 새로운 물류 경로 최적화 알고리즘을 도입해 상품의 배송시간을 단축하고자 한다. \n",
    "# 이에 전국 7개의 물류센터에 실험적으로 적용해보고 실제로 얼마나 더 나은 성과를 보이는지 검증해보고자 한다. \n",
    "# 전국 7개의 물류센터에서 새로운 알고리즘의 적용 전 평균 배송시간과 적용 후의 평균 배송시간은 다음과 같다. "
   ]
  },
  {
   "cell_type": "code",
   "execution_count": 7,
   "id": "ca88b920",
   "metadata": {},
   "outputs": [],
   "source": [
    "# 이를 위해 다음과 같이 가설을 수립할 수 있다.\n",
    "#### H0 (귀무가설)= 기존 물류 알고리즘과 신규 알고리즘간을 통한 평균 배송시간은 차이가 없다.\n",
    "#### H1 (연구가설)= 기존 물류 알고리즘과 신규 알고리즘간을 통한 평균 배송시간은 차이가 있다."
   ]
  },
  {
   "cell_type": "code",
   "execution_count": 8,
   "id": "d2639a0b",
   "metadata": {},
   "outputs": [
    {
     "data": {
      "text/plain": [
       "WilcoxonResult(statistic=12.0, pvalue=0.8125)"
      ]
     },
     "execution_count": 8,
     "metadata": {},
     "output_type": "execute_result"
    }
   ],
   "source": [
    "# 3-1. 모듈 및 데이터 탑재\n",
    "from scipy.stats import wilcoxon \n",
    "x = [10,30,9,21,35,12,17]\n",
    "y = [8,27,16,25,30,13,11] \n",
    "\n",
    "\n",
    "# 3-2. 부호 순위 검정 분석\n",
    "wilcoxon(x,y)"
   ]
  },
  {
   "cell_type": "code",
   "execution_count": 9,
   "id": "c2987355",
   "metadata": {},
   "outputs": [],
   "source": [
    "### 분석 시나리오 - ② Mann-Whitney U 검정\n",
    "\n",
    "# V반도체 회사는 A공장과 B공장 2개의 공장에서 반도체를 생산하고 있다. \n",
    "# 두 공장에서의 생산효율성을 비교하기 위하여 생산되는 반도체의 생산량을 5일 간 조사한 결과는 아래 표와 같다. \n",
    "# 2개 공장의 생산 효율성에 차이가 있는지를 Mann-Whitney U 검정을 통해 살펴보자. 이에 대한 가설은 다음과 같다."
   ]
  },
  {
   "cell_type": "code",
   "execution_count": 10,
   "id": "37d9b543",
   "metadata": {},
   "outputs": [],
   "source": [
    "# 이를 위해 다음과 같이 가설을 수립할 수 있다.\n",
    "#### H0 (귀무가설)= 공장 A와 공장B의 생산효율성은 동일하다. \n",
    "#### H1 (연구가설)= 공장 A와 공장B의 생산효율성은 다르다."
   ]
  },
  {
   "cell_type": "code",
   "execution_count": 11,
   "id": "651e75bb",
   "metadata": {},
   "outputs": [
    {
     "name": "stdout",
     "output_type": "stream",
     "text": [
      "MannwhitneyuResult(statistic=0.5, pvalue=0.015970696353780123)\n"
     ]
    },
    {
     "data": {
      "text/html": [
       "<div>\n",
       "<style scoped>\n",
       "    .dataframe tbody tr th:only-of-type {\n",
       "        vertical-align: middle;\n",
       "    }\n",
       "\n",
       "    .dataframe tbody tr th {\n",
       "        vertical-align: top;\n",
       "    }\n",
       "\n",
       "    .dataframe thead th {\n",
       "        text-align: right;\n",
       "    }\n",
       "</style>\n",
       "<table border=\"1\" class=\"dataframe\">\n",
       "  <thead>\n",
       "    <tr style=\"text-align: right;\">\n",
       "      <th></th>\n",
       "      <th>0</th>\n",
       "      <th>생산량 순위</th>\n",
       "    </tr>\n",
       "    <tr>\n",
       "      <th>공장이름</th>\n",
       "      <th></th>\n",
       "      <th></th>\n",
       "    </tr>\n",
       "  </thead>\n",
       "  <tbody>\n",
       "    <tr>\n",
       "      <th>A</th>\n",
       "      <td>13.0</td>\n",
       "      <td>7.9</td>\n",
       "    </tr>\n",
       "    <tr>\n",
       "      <th>B</th>\n",
       "      <td>17.4</td>\n",
       "      <td>3.1</td>\n",
       "    </tr>\n",
       "  </tbody>\n",
       "</table>\n",
       "</div>"
      ],
      "text/plain": [
       "         0  생산량 순위\n",
       "공장이름              \n",
       "A     13.0     7.9\n",
       "B     17.4     3.1"
      ]
     },
     "execution_count": 11,
     "metadata": {},
     "output_type": "execute_result"
    }
   ],
   "source": [
    "# 4-1. 모듈 및 데이터 탑재\n",
    "import pandas as pd\n",
    "from scipy.stats import mannwhitneyu\n",
    "x = [12, 11, 13, 14, 15]\n",
    "y = [16, 15, 17, 19, 20]\n",
    "\n",
    "\n",
    "# 4-2. Mann-Whitney 검정 분석\n",
    "print(mannwhitneyu(x,y))\n",
    "\n",
    "\n",
    "# 4-3. 생산량 평균 순위 출력\n",
    "xy = pd.DataFrame(x+y)\n",
    "xy['생산량 순위'] = xy.rank(ascending=False)\n",
    "xy['공장이름'] = ['A','A','A','A','A','B','B','B','B','B']\n",
    "xy.groupby('공장이름').mean()"
   ]
  },
  {
   "cell_type": "code",
   "execution_count": 12,
   "id": "3eb4eb19",
   "metadata": {},
   "outputs": [],
   "source": [
    "### 분석 시나리오 - ③ Kruskal-Wallis H 검정\n",
    "\n",
    "# Q 제철기업은 철근을 생산하는데 있어 3개의 공장을 운영하고 있다.\n",
    "# 현재 철근 생산량이 목표에 미치지 못하고 있어 생산량이 가장 낮은 공장을 찾아 공장 설비 등을 보강시켜 생산량을 더 높일 계획이다. \n",
    "# 아래 표는 3개의 공장의 월별 철근 생산량을 나타낸다. Kruskal-Wallis H검정을 통해 각 공장별 생산량의 차이가 있는지 검정해보자. \n",
    "# 이를 위한 가설은 다음과 같다. "
   ]
  },
  {
   "cell_type": "code",
   "execution_count": 13,
   "id": "2090ad4a",
   "metadata": {},
   "outputs": [],
   "source": [
    "#### H0 (귀무가설)= 3개의 공장의 철근 생산량은 모두 동일하다. \n",
    "#### H1 (연구가설)= 3개의 공장의 철근 생산량은 모두 동일하지는 않다."
   ]
  },
  {
   "cell_type": "code",
   "execution_count": 14,
   "id": "fb5d8e95",
   "metadata": {},
   "outputs": [
    {
     "name": "stdout",
     "output_type": "stream",
     "text": [
      "KruskalResult(statistic=6.047476974964328, pvalue=0.04861911622342764)\n"
     ]
    },
    {
     "data": {
      "text/html": [
       "<div>\n",
       "<style scoped>\n",
       "    .dataframe tbody tr th:only-of-type {\n",
       "        vertical-align: middle;\n",
       "    }\n",
       "\n",
       "    .dataframe tbody tr th {\n",
       "        vertical-align: top;\n",
       "    }\n",
       "\n",
       "    .dataframe thead th {\n",
       "        text-align: right;\n",
       "    }\n",
       "</style>\n",
       "<table border=\"1\" class=\"dataframe\">\n",
       "  <thead>\n",
       "    <tr style=\"text-align: right;\">\n",
       "      <th></th>\n",
       "      <th>0</th>\n",
       "      <th>생산량순위</th>\n",
       "    </tr>\n",
       "    <tr>\n",
       "      <th>공장이름</th>\n",
       "      <th></th>\n",
       "      <th></th>\n",
       "    </tr>\n",
       "  </thead>\n",
       "  <tbody>\n",
       "    <tr>\n",
       "      <th>1</th>\n",
       "      <td>39.250000</td>\n",
       "      <td>19.0</td>\n",
       "    </tr>\n",
       "    <tr>\n",
       "      <th>2</th>\n",
       "      <td>42.333333</td>\n",
       "      <td>13.0</td>\n",
       "    </tr>\n",
       "    <tr>\n",
       "      <th>3</th>\n",
       "      <td>37.916667</td>\n",
       "      <td>23.5</td>\n",
       "    </tr>\n",
       "  </tbody>\n",
       "</table>\n",
       "</div>"
      ],
      "text/plain": [
       "              0  생산량순위\n",
       "공장이름                  \n",
       "1     39.250000   19.0\n",
       "2     42.333333   13.0\n",
       "3     37.916667   23.5"
      ]
     },
     "execution_count": 14,
     "metadata": {},
     "output_type": "execute_result"
    }
   ],
   "source": [
    "# 5-1. 모듈 및 함수 불러오기\n",
    "import pandas as pd\n",
    "from scipy.stats import kruskal \n",
    "a = [35,41,45,42,33,36,47,45,31,32,40,44]\n",
    "b = [40,38,44,48,45,46,42,39,40,41,38,47]\n",
    "c = [30,34,38,39,40,41,38,37,40,41,39,38] \n",
    "\n",
    "\n",
    "# 5-2. Kruskal-Wallis H 검정 분석\n",
    "print(kruskal(a,b,c))\n",
    "\n",
    "\n",
    "# 5-3. 생산량 평균 순위 출력\n",
    "abc = pd.DataFrame(a+b+c)\n",
    "abc['생산량순위'] = abc.rank(ascending=False)\n",
    "abc['공장이름'] = ''\n",
    "abc.loc[0:12, '공장이름'] = 1\n",
    "abc.loc[12:24, '공장이름'] = 2\n",
    "abc.loc[24:36, '공장이름'] = 3\n",
    "abc.groupby('공장이름').mean()"
   ]
  },
  {
   "cell_type": "code",
   "execution_count": 15,
   "id": "9be1ee9d",
   "metadata": {},
   "outputs": [],
   "source": [
    "### 분석 시나리오 - ④ Friedman 검정\n",
    "\n",
    "# A쇼핑 본사에서는 멤버십 VIP 고객들을 대상으로 새로운 혜택을 제공하고자 한다. \n",
    "# 샘플증정, 포인트 추가, 무료배송, 할인쿠폰 등 4가지 혜택에 대한 5개 지역별 고객들에 대한 사전 선호도 조사를 실시한 결과 \n",
    "# 지역별 서비스에 대한 서열은 아래 표와 같이 정리되었다. 혜택 별 고객 선호도에 차이가 있는지를 Friedman 검정을 통해 알아보자. \n",
    "# 이에 대한 가설은 다음과 같다."
   ]
  },
  {
   "cell_type": "code",
   "execution_count": 16,
   "id": "e9c9f5f0",
   "metadata": {},
   "outputs": [],
   "source": [
    "#### H0 (귀무가설)= 혜택별 고객의 선호도 평가에 차이는 없다.\n",
    "#### H1 (연구가설)= 혜택별 고객의 선호도 평가에 차이가 있다."
   ]
  },
  {
   "cell_type": "code",
   "execution_count": 17,
   "id": "cc41a4e6",
   "metadata": {},
   "outputs": [
    {
     "data": {
      "text/plain": [
       "FriedmanchisquareResult(statistic=6.359999999999999, pvalue=0.09535032301698126)"
      ]
     },
     "execution_count": 17,
     "metadata": {},
     "output_type": "execute_result"
    }
   ],
   "source": [
    "# 6-1. 모듈 및 데이터 탑재\n",
    "from scipy.stats import friedmanchisquare \n",
    "a = [1,2,1,1,2]\n",
    "b = [3,3,3,2,1]\n",
    "c = [2,4,4,4,3]\n",
    "d = [4,1,2,3,4] \n",
    "\n",
    "\n",
    "# 6-2. Friedman 검정 분석 \n",
    "friedmanchisquare(a,b,c,d)"
   ]
  },
  {
   "cell_type": "code",
   "execution_count": 18,
   "id": "5b7d610c",
   "metadata": {},
   "outputs": [],
   "source": [
    "## 7. 상관성 검정\n",
    "### 분석 시나리오\n",
    "\n",
    "# 타 홈쇼핑에 비해 뒤늦게 출발한 H 홈쇼핑에서는\n",
    "# 최근 주력 판매 품목이었던 의류/패션 상품의 매출이 급락하여 시급한 대책마련이 필요하게 되었다. \n",
    "# 패션을 포함한 소비재 상품을 취급하는 제2상품본부장은\n",
    "# 최근 의류 상품의 매출부진이 비교적 값 비싼 상품을 판매했기 때문이라고 지적하였고, \n",
    "# CRM 팀에서는 이러한 지적이 사실인지 판단하기 위해 \n",
    "# 최근 판매된 5개 의류 브랜드의 가격과 판매량을 바탕으로 Kendall의 서열상관 계수를 구하기로 하였다. \n",
    "# 아래의 표에서는 5개 브랜드에 대한 판매 가격과 실제 판매량에 대해 서열척도로 변환하여 나타낸 표이다."
   ]
  },
  {
   "cell_type": "code",
   "execution_count": 19,
   "id": "1fbe0dc3",
   "metadata": {},
   "outputs": [],
   "source": [
    "# 이를 위한 가설설정은 다음과 같다.\n",
    "#### H0 (귀무가설)= H홈쇼핑의 의류브랜드 가격 서열과 판매량 서열은 연관성이 없다. \n",
    "#### H1 (연구가설)= H홈쇼핑의 의류브랜드 가격 서열과 판매량 서열은 연관성이 있다."
   ]
  },
  {
   "cell_type": "code",
   "execution_count": 20,
   "id": "9d60d2fd",
   "metadata": {},
   "outputs": [
    {
     "data": {
      "text/plain": [
       "SignificanceResult(statistic=0.39999999999999997, pvalue=0.48333333333333334)"
      ]
     },
     "execution_count": 20,
     "metadata": {},
     "output_type": "execute_result"
    }
   ],
   "source": [
    "# 7-1. 모듈 및 함수 불러오기\n",
    "from scipy.stats import kendalltau \n",
    "x = [5,2,4,1,3]\n",
    "y = [4,1,3,2,5] \n",
    "\n",
    "\n",
    "# 7-2. Kendall 검정 분석 결과 출력\n",
    "kendalltau(x,y)"
   ]
  },
  {
   "cell_type": "code",
   "execution_count": null,
   "id": "c471f9e9",
   "metadata": {},
   "outputs": [],
   "source": []
  }
 ],
 "metadata": {
  "kernelspec": {
   "display_name": "Python 3 (ipykernel)",
   "language": "python",
   "name": "python3"
  },
  "language_info": {
   "codemirror_mode": {
    "name": "ipython",
    "version": 3
   },
   "file_extension": ".py",
   "mimetype": "text/x-python",
   "name": "python",
   "nbconvert_exporter": "python",
   "pygments_lexer": "ipython3",
   "version": "3.10.9"
  }
 },
 "nbformat": 4,
 "nbformat_minor": 5
}
