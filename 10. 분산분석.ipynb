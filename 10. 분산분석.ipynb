{
 "cells": [
  {
   "cell_type": "code",
   "execution_count": 1,
   "id": "88fb7a4c",
   "metadata": {},
   "outputs": [],
   "source": [
    "# 1. 일원분산분석\n",
    "\n",
    "# 분석 시나리오\n",
    "# A쇼핑 고객들의 구매유형별 총 매출액의 차이가 있는지를 일원분산분석을 통해 검정해 보고자 한다. \n",
    "# A쇼핑에서 관리하는 고객들의 구매유형과 고객 수는 다음과 같다. 이를 위한 가설은 다음과 같다. \n",
    "\n",
    "# H0 (귀무가설)= A쇼핑 고객의 구매유형에 따른 총 매출액의 차이는 없다.\n",
    "# H1 (연구가설)= A쇼핑 고객은 적어도 1개의 구매유형이 다른 구매유형과 총 매출액 차이가 존재한다."
   ]
  },
  {
   "cell_type": "code",
   "execution_count": 4,
   "id": "ddbb6b6b",
   "metadata": {},
   "outputs": [
    {
     "data": {
      "text/plain": [
       "LeveneResult(statistic=61.83834278363635, pvalue=1.1483869977419955e-36)"
      ]
     },
     "execution_count": 4,
     "metadata": {},
     "output_type": "execute_result"
    }
   ],
   "source": [
    "# 1-1. 모듈 및 데이터 탑재\n",
    "import pandas as pd\n",
    "import scipy as sp\n",
    "import numpy as np\n",
    "import pingouin as pg\n",
    "import scikit_posthocs\n",
    "\n",
    "df = pd.read_csv('Ashopping.csv',sep=',', encoding='CP949')\n",
    "df1=df[['구매유형','총_매출액']]\n",
    "pd.options.display.float_format = '{:.3f}'.format\n",
    "\n",
    "# 1-2. 등분산 검정\n",
    "구매유형 = [ ]\n",
    "for i in range(1,5,1):\n",
    "    구매유형.append(df1[df1.구매유형==i].총_매출액)\n",
    "sp.stats.levene(구매유형[0],구매유형[1], 구매유형[2], 구매유형[3])"
   ]
  },
  {
   "cell_type": "code",
   "execution_count": 5,
   "id": "c4402ea8",
   "metadata": {},
   "outputs": [],
   "source": [
    "# !pip install scikit_posthocs"
   ]
  },
  {
   "cell_type": "code",
   "execution_count": 6,
   "id": "4ebccb25",
   "metadata": {},
   "outputs": [],
   "source": [
    "# 코드 실행 결과, 구매유형별 고객 간의 등분산 검정 결과 F값은 61.83, 유의확률은 0.01 미만으로 귀무가설이 기각되었다.\n",
    "# 즉, 4개 집단의 분산은 동일하지 않은 것으로 나타났다."
   ]
  },
  {
   "cell_type": "code",
   "execution_count": 7,
   "id": "cf652f1b",
   "metadata": {},
   "outputs": [
    {
     "name": "stdout",
     "output_type": "stream",
     "text": [
      "  Source  ddof1   ddof2      F  p-unc   np2\n",
      "0   구매유형      3 230.936 88.238  0.000 0.193\n",
      "      1     2     3     4\n",
      "1 1.000 0.000 0.000 0.805\n",
      "2 0.000 1.000 0.008 0.000\n",
      "3 0.000 0.008 1.000 0.000\n",
      "4 0.805 0.000 0.000 1.000\n",
      "3403682.3255813955 9612645.078864353 11779839.652777778 4392794.395161291\n"
     ]
    }
   ],
   "source": [
    "# 1-3. Welch 일원분산분석 \n",
    "print(pg.welch_anova(dv='총_매출액', between='구매유형', data=df1))\n",
    "\n",
    "# 1-4. 사후분석\n",
    "df1['구매유형'].astype(str)\n",
    "print(scikit_posthocs.posthoc_scheffe(df1, val_col='총_매출액', group_col='구매유형', sort=True))\n",
    "\n",
    "# 1-5. 구매유형별 평균 총매출액\n",
    "print(구매유형[0].mean(),구매유형[1].mean(),구매유형[2].mean(),구매유형[3].mean())"
   ]
  },
  {
   "cell_type": "code",
   "execution_count": 8,
   "id": "0b5f74d7",
   "metadata": {},
   "outputs": [],
   "source": [
    "# 1-5. 결과\n",
    "# 분석 결과 F value 88.23, 유의확률은 0.01 이하로 나타나\n",
    "# 'A쇼핑 고객은 적어도 1개의 구매유형은 다른 구매유형과 총 매출액 차이가 존재한다'는 연구가설을 채택한다. \n",
    "# 사후분석표를 통해 1번 구매유형과 4번 구매유형 고객들간 총 매출액 차이는 없지만, \n",
    "# 나머지 집단간의 매출액 차이는 통계적으로 유의하다고 할 수 있다."
   ]
  },
  {
   "cell_type": "code",
   "execution_count": 9,
   "id": "9361ac34",
   "metadata": {},
   "outputs": [],
   "source": [
    "# 2. 이원분산분석\n",
    "\n",
    "# 분석 시나리오\n",
    "# 이번에는 구매유형과 거주지역에 따라 고객들의 총 매출액이 다른지 검정해 보자 한다. \n",
    "# 이원분산분석의 가설은 제1 독립변수의 효과, 제2 독립변수의 효과, \n",
    "# 그리고 상호작용 효과에 대해 논하는 가설로 분리하여 설정하는 것이 바람직하다.\n",
    "\n",
    "### ① 구매유형에 따른 매출액 차이 가설\n",
    "#### H0 (귀무가설)= 구매유형에 따른 총 매출액의 차이는 없다.\n",
    "#### H1 (연구가설)= 적어도 1개의 구매유형이 다른 구매유형과 총 매출액 차이가 존재한다.\n",
    "\n",
    "### ② 거주지역에 따른 매출액 차이 가설\n",
    "#### H0 (귀무가설)= 거주지역에 따른 총 매출액의 차이는 없다.\n",
    "#### H1 (연구가설)= 적어도 1개의 거주지역이 다른 거주지역과 총 매출액 차이가 존재한다.\n",
    "\n",
    "### ③ 독립변수간 상호작용에 대한 가설\n",
    "#### H0 (귀무가설)= 구매유형과 거주지역의 상호작용 효과는 없다.\n",
    "#### H1 (연구가설)= 구매유형과 거주지역의 상호작용 효과가 있다."
   ]
  },
  {
   "cell_type": "code",
   "execution_count": 10,
   "id": "2161d0f5",
   "metadata": {},
   "outputs": [
    {
     "name": "stdout",
     "output_type": "stream",
     "text": [
      "        Source                    SS      DF                   MS      F  \\\n",
      "0         구매유형  9287823078170928.000   3.000 3095941026056976.000 94.142   \n",
      "1         거주지역 16139331218813640.000   6.000 2689888536468940.000 81.795   \n",
      "2  구매유형 * 거주지역  3867936213048948.500  18.000  214885345169386.031  6.534   \n",
      "3     Residual 32096439113329672.000 976.000   32885695812837.777    NaN   \n",
      "\n",
      "   p-unc   np2  \n",
      "0  0.000 0.224  \n",
      "1  0.000 0.335  \n",
      "2  0.000 0.108  \n",
      "3    NaN   NaN  \n",
      "      1     2     3     4\n",
      "1 1.000 0.000 0.000 0.805\n",
      "2 0.000 1.000 0.008 0.000\n",
      "3 0.000 0.008 1.000 0.000\n",
      "4 0.805 0.000 0.000 1.000\n",
      "      1     2     3     4     5     6     7\n",
      "1 1.000 1.000 1.000 1.000 1.000 0.988 0.412\n",
      "2 1.000 1.000 1.000 0.980 0.965 0.339 0.000\n",
      "3 1.000 1.000 1.000 0.978 0.935 0.019 0.000\n",
      "4 1.000 0.980 0.978 1.000 1.000 0.008 0.000\n",
      "5 1.000 0.965 0.935 1.000 1.000 0.002 0.000\n",
      "6 0.988 0.339 0.019 0.008 0.002 1.000 0.000\n",
      "7 0.412 0.000 0.000 0.000 0.000 0.000 1.000\n"
     ]
    },
    {
     "name": "stderr",
     "output_type": "stream",
     "text": [
      "C:\\Users\\USER\\anaconda3\\lib\\site-packages\\statsmodels\\base\\model.py:1871: ValueWarning: covariance of constraints does not have full rank. The number of constraints is 3, but rank is 2\n",
      "  warnings.warn('covariance of constraints does not have full '\n"
     ]
    },
    {
     "data": {
      "text/html": [
       "<div>\n",
       "<style scoped>\n",
       "    .dataframe tbody tr th:only-of-type {\n",
       "        vertical-align: middle;\n",
       "    }\n",
       "\n",
       "    .dataframe tbody tr th {\n",
       "        vertical-align: top;\n",
       "    }\n",
       "\n",
       "    .dataframe thead th {\n",
       "        text-align: right;\n",
       "    }\n",
       "</style>\n",
       "<table border=\"1\" class=\"dataframe\">\n",
       "  <thead>\n",
       "    <tr style=\"text-align: right;\">\n",
       "      <th>거주지역</th>\n",
       "      <th>1</th>\n",
       "      <th>2</th>\n",
       "      <th>3</th>\n",
       "      <th>4</th>\n",
       "      <th>5</th>\n",
       "      <th>6</th>\n",
       "      <th>7</th>\n",
       "    </tr>\n",
       "    <tr>\n",
       "      <th>구매유형</th>\n",
       "      <th></th>\n",
       "      <th></th>\n",
       "      <th></th>\n",
       "      <th></th>\n",
       "      <th></th>\n",
       "      <th></th>\n",
       "      <th></th>\n",
       "    </tr>\n",
       "  </thead>\n",
       "  <tbody>\n",
       "    <tr>\n",
       "      <th>1</th>\n",
       "      <td>NaN</td>\n",
       "      <td>3281350.000</td>\n",
       "      <td>3002825.000</td>\n",
       "      <td>3041428.182</td>\n",
       "      <td>3637031.667</td>\n",
       "      <td>3712146.667</td>\n",
       "      <td>3864880.000</td>\n",
       "    </tr>\n",
       "    <tr>\n",
       "      <th>2</th>\n",
       "      <td>NaN</td>\n",
       "      <td>NaN</td>\n",
       "      <td>4215648.571</td>\n",
       "      <td>8278686.562</td>\n",
       "      <td>6590330.674</td>\n",
       "      <td>10226770.763</td>\n",
       "      <td>13513839.437</td>\n",
       "    </tr>\n",
       "    <tr>\n",
       "      <th>3</th>\n",
       "      <td>4906400.000</td>\n",
       "      <td>3215055.000</td>\n",
       "      <td>6809777.143</td>\n",
       "      <td>7965439.677</td>\n",
       "      <td>11046081.250</td>\n",
       "      <td>13768678.750</td>\n",
       "      <td>25451441.176</td>\n",
       "    </tr>\n",
       "    <tr>\n",
       "      <th>4</th>\n",
       "      <td>NaN</td>\n",
       "      <td>4034175.556</td>\n",
       "      <td>3720989.697</td>\n",
       "      <td>4229915.000</td>\n",
       "      <td>4272964.468</td>\n",
       "      <td>4749139.200</td>\n",
       "      <td>5138468.276</td>\n",
       "    </tr>\n",
       "  </tbody>\n",
       "</table>\n",
       "</div>"
      ],
      "text/plain": [
       "거주지역           1           2           3           4            5  \\\n",
       "구매유형                                                                \n",
       "1            NaN 3281350.000 3002825.000 3041428.182  3637031.667   \n",
       "2            NaN         NaN 4215648.571 8278686.562  6590330.674   \n",
       "3    4906400.000 3215055.000 6809777.143 7965439.677 11046081.250   \n",
       "4            NaN 4034175.556 3720989.697 4229915.000  4272964.468   \n",
       "\n",
       "거주지역            6            7  \n",
       "구매유형                            \n",
       "1     3712146.667  3864880.000  \n",
       "2    10226770.763 13513839.437  \n",
       "3    13768678.750 25451441.176  \n",
       "4     4749139.200  5138468.276  "
      ]
     },
     "execution_count": 10,
     "metadata": {},
     "output_type": "execute_result"
    }
   ],
   "source": [
    "# 2-1. 모듈 및 데이터 탑재\n",
    "import pandas as pd\n",
    "import scipy as sp\n",
    "import numpy as np\n",
    "import pingouin as pg\n",
    "import scikit_posthocs\n",
    "\n",
    "df = pd.read_csv('Ashopping.csv',sep=',', encoding='CP949')\n",
    "df1=df[['총_매출액','구매유형','거주지역']]\n",
    "pd.options.display.float_format = '{:.3f}'.format\n",
    "\n",
    "# 2-2. 이원분산분석\n",
    "print(pg.anova(dv='총_매출액', between=['구매유형','거주지역'], data=df1))\n",
    "\n",
    "# 2-3. 사후분석\n",
    "df1['구매유형'].astype(str)\n",
    "df1['거주지역'].astype(str)\n",
    "print(scikit_posthocs.posthoc_scheffe(df1, val_col='총_매출액', group_col='구매유형', sort=True))\n",
    "print(scikit_posthocs.posthoc_scheffe(df1, val_col='총_매출액', group_col='거주지역', sort=True))\n",
    "\n",
    "# 2-4. 구매유형, 거주지역별 평균 총 매출액\n",
    "pd.pivot_table(df1, index='구매유형', columns='거주지역', values='총_매출액', aggfunc=np.mean)"
   ]
  },
  {
   "cell_type": "code",
   "execution_count": 11,
   "id": "003255e7",
   "metadata": {},
   "outputs": [],
   "source": [
    "# 코드 실행 결과 구매유형의 F값은 65.18, 거주지역의 F값은 81.80, \n",
    "# 두 변수 간의 상호작용 효과의 F값은 6.53이고 유의확률은 모두 0.01이하로 출력되었다. \n",
    "# 사후분석결과, 구매유형은 구매유형(1)과 구매유형(4)를 제외한 나머지 유형 간의 총 매출액 차이가 유의하고, \n",
    "# 거주지역은 3과 6. 4와6, 5와6, 27, 37, 47, 5와7, 6과 그룹간의 총 매출액 차이가 유의하게 나타났다. \n",
    "# 마지막으로 구매유형, 거주지역별 평균 총 매출액이 테이블 형태로 출력되었다."
   ]
  },
  {
   "cell_type": "code",
   "execution_count": 12,
   "id": "d46aff43",
   "metadata": {},
   "outputs": [],
   "source": [
    "# 결과 해석\n",
    "# 이원분산분석 결과 모든 귀무가설을 기각하고, 연구가설을 채택하게 되었다. \n",
    "# 즉, 매출액은 구매유형에 따라, 거주지역에 따라 달라진다고 볼 수 있으며, 구매유형과 거주지역 간의 상호작용 효과 또한 유의하다. \n",
    "# 따라서, 특정 구매유형과 특정 거주지역의 경우 다른 영역보다 매우 다른 매출액 차이를 보이고 있다는 점에 유의해야 한다. \n",
    "# 가령 거주지역이 이고 구매유형이 3인 영역은 타 영역에 비해 상당히 큰 매출액 현황을 보이고 있으므로 \n",
    "# 해당 고객군을 위한 차별화된 마케팅 전략을 수립하는 것이 바람직해 보인다."
   ]
  },
  {
   "cell_type": "code",
   "execution_count": 13,
   "id": "ac654085",
   "metadata": {},
   "outputs": [],
   "source": [
    "# 3. 다변량분산분석\n",
    "# 다변량분산분석은 집단간 평균을 비교할 때뿐만 아니라, \n",
    "# 모집단에 대해 여러 상황을 제시하고 여러 개의 변수를 동시에 관찰하는 경우에도 유용하다."
   ]
  },
  {
   "cell_type": "code",
   "execution_count": 14,
   "id": "8b4c4c47",
   "metadata": {},
   "outputs": [],
   "source": [
    "# 분석 시나리오\n",
    "# A쇼핑에서는 다변량분산분석을 통해 구매유형, 거주지역에 따라 방문빈도 및 총 매출액의 차이를 검정하려 한다. \n",
    "# 이러한 문제해결을 위해 아래와 같이 가설을 수립할 수 있다.\n",
    "\n",
    "#### H0 (귀무가설)= A쇼핑 고객의 구매유형,거주지역에 따른 방문빈도,총 매출액의 차이는 없다.\n",
    "#### H1 (연구가설)= A쇼핑 고객의 구매유형,거주지역에 따른 방문빈도,총 매출액의 차이는 있다."
   ]
  },
  {
   "cell_type": "code",
   "execution_count": 15,
   "id": "a9d84f17",
   "metadata": {},
   "outputs": [
    {
     "name": "stdout",
     "output_type": "stream",
     "text": [
      "                  Multivariate linear model\n",
      "==============================================================\n",
      "                                                              \n",
      "--------------------------------------------------------------\n",
      "        Intercept        Value  Num DF  Den DF  F Value Pr > F\n",
      "--------------------------------------------------------------\n",
      "           Wilks' lambda 0.9578 2.0000 996.0000 21.9327 0.0000\n",
      "          Pillai's trace 0.0422 2.0000 996.0000 21.9327 0.0000\n",
      "  Hotelling-Lawley trace 0.0440 2.0000 996.0000 21.9327 0.0000\n",
      "     Roy's greatest root 0.0440 2.0000 996.0000 21.9327 0.0000\n",
      "--------------------------------------------------------------\n",
      "                                                              \n",
      "--------------------------------------------------------------\n",
      "          구매유형          Value  Num DF  Den DF  F Value  Pr > F\n",
      "--------------------------------------------------------------\n",
      "          Wilks' lambda 0.8248 2.0000 996.0000 105.8119 0.0000\n",
      "         Pillai's trace 0.1752 2.0000 996.0000 105.8119 0.0000\n",
      " Hotelling-Lawley trace 0.2125 2.0000 996.0000 105.8119 0.0000\n",
      "    Roy's greatest root 0.2125 2.0000 996.0000 105.8119 0.0000\n",
      "--------------------------------------------------------------\n",
      "                                                              \n",
      "--------------------------------------------------------------\n",
      "           거주지역          Value  Num DF  Den DF  F Value Pr > F\n",
      "--------------------------------------------------------------\n",
      "           Wilks' lambda 0.8672 2.0000 996.0000 76.2545 0.0000\n",
      "          Pillai's trace 0.1328 2.0000 996.0000 76.2545 0.0000\n",
      "  Hotelling-Lawley trace 0.1531 2.0000 996.0000 76.2545 0.0000\n",
      "     Roy's greatest root 0.1531 2.0000 996.0000 76.2545 0.0000\n",
      "==============================================================\n",
      "\n"
     ]
    }
   ],
   "source": [
    "# 4-1. 모듈 및 데이터 탑재\n",
    "import pandas as pd\n",
    "from statsmodels.multivariate.manova import MANOVA\n",
    "\n",
    "df = pd.read_csv('Ashopping.csv',sep=',', encoding='CP949')\n",
    "df1=df[['총_매출액','방문빈도','구매유형','거주지역']]\n",
    "pd.options.display.float_format = '{:.3f}'.format\n",
    "\n",
    "# 4-2. 다변량분산분석\n",
    "print(MANOVA.from_formula('방문빈도 + 총_매출액 ~ 구매유형 +거주지역 ', data=df1).mv_test())"
   ]
  },
  {
   "cell_type": "code",
   "execution_count": 16,
   "id": "0b012860",
   "metadata": {},
   "outputs": [],
   "source": [
    "# 다변량분산분석 전체 모형의 적합성, 그리고 거주지역과 구매유형에 대한 \n",
    "# 각각의 다변량분산분석 모형의 결과가 순서대로 출력되었다.\n",
    "# 모두 유의확률이 0.01 이하이므로 모형이 유의미하다.\n",
    "# 다변량분산분석 모형이 유의하므로, 사후분석을 통해 더욱 상세한 결과를 찾아보았다."
   ]
  },
  {
   "cell_type": "code",
   "execution_count": 17,
   "id": "6ca3e1a2",
   "metadata": {},
   "outputs": [
    {
     "name": "stdout",
     "output_type": "stream",
     "text": [
      "구매유형 총매출액 사후분석 \n",
      "        1     2     3     4\n",
      "1 1.000 0.000 0.000 0.805\n",
      "2 0.000 1.000 0.008 0.000\n",
      "3 0.000 0.008 1.000 0.000\n",
      "4 0.805 0.000 0.000 1.000\n",
      "\n",
      "거주지역 총매출액 사후분석 \n",
      "        1     2     3     4     5     6     7\n",
      "1 1.000 1.000 1.000 1.000 1.000 0.988 0.412\n",
      "2 1.000 1.000 1.000 0.980 0.965 0.339 0.000\n",
      "3 1.000 1.000 1.000 0.978 0.935 0.019 0.000\n",
      "4 1.000 0.980 0.978 1.000 1.000 0.008 0.000\n",
      "5 1.000 0.965 0.935 1.000 1.000 0.002 0.000\n",
      "6 0.988 0.339 0.019 0.008 0.002 1.000 0.000\n",
      "7 0.412 0.000 0.000 0.000 0.000 0.000 1.000\n",
      "\n",
      "구매유형 방문빈도 사후분석 \n",
      "        1     2     3     4\n",
      "1 1.000 0.000 0.075 0.030\n",
      "2 0.000 1.000 0.000 0.000\n",
      "3 0.075 0.000 1.000 0.998\n",
      "4 0.030 0.000 0.998 1.000\n",
      "\n",
      "거주지역 방문빈도 사후분석 \n",
      "        1     2     3     4     5     6     7\n",
      "1 1.000 1.000 1.000 0.949 0.878 0.451 0.018\n",
      "2 1.000 1.000 0.999 0.604 0.303 0.005 0.000\n",
      "3 1.000 0.999 1.000 0.370 0.040 0.000 0.000\n",
      "4 0.949 0.604 0.370 1.000 0.913 0.000 0.000\n",
      "5 0.878 0.303 0.040 0.913 1.000 0.000 0.000\n",
      "6 0.451 0.005 0.000 0.000 0.000 1.000 0.000\n",
      "7 0.018 0.000 0.000 0.000 0.000 0.000 1.000\n",
      "\n",
      "구매유형, 거주지역별 평균총매출액\n",
      " 거주지역           1           2           3           4            5  \\\n",
      "구매유형                                                                \n",
      "1            NaN 3281350.000 3002825.000 3041428.182  3637031.667   \n",
      "2            NaN         NaN 4215648.571 8278686.562  6590330.674   \n",
      "3    4906400.000 3215055.000 6809777.143 7965439.677 11046081.250   \n",
      "4            NaN 4034175.556 3720989.697 4229915.000  4272964.468   \n",
      "\n",
      "거주지역            6            7  \n",
      "구매유형                            \n",
      "1     3712146.667  3864880.000  \n",
      "2    10226770.763 13513839.437  \n",
      "3    13768678.750 25451441.176  \n",
      "4     4749139.200  5138468.276  \n",
      "\n",
      "구매유형, 거주지역별 평균방문빈도\n",
      " 거주지역     1      2      3      4      5      6      7\n",
      "구매유형                                                \n",
      "1      NaN  8.000  8.667 10.818 10.222  9.667 10.000\n",
      "2      NaN    NaN 29.143 42.312 39.022 48.212 58.845\n",
      "3    7.750  5.000  7.929 11.903 15.350 20.438 40.765\n",
      "4      NaN 12.778 12.485 17.277 18.000 18.768 19.966\n"
     ]
    }
   ],
   "source": [
    "# 4-3. 패키지 불러오기\n",
    "import scikit_posthocs\n",
    "import numpy as np\n",
    "\n",
    "# 4-4. 사후분석\n",
    "df1['구매유형'].astype(str)\n",
    "df1['거주지역'].astype(str)\n",
    "\n",
    "print('구매유형 총매출액 사후분석 \\n ',scikit_posthocs.posthoc_scheffe(df1, val_col='총_매출액', group_col='구매유형', sort=True))\n",
    "print('\\n거주지역 총매출액 사후분석 \\n ',scikit_posthocs.posthoc_scheffe(df1, val_col='총_매출액', group_col='거주지역', sort=True))\n",
    "print('\\n구매유형 방문빈도 사후분석 \\n ',scikit_posthocs.posthoc_scheffe(df1, val_col='방문빈도', group_col='구매유형', sort=True))\n",
    "print('\\n거주지역 방문빈도 사후분석 \\n ',scikit_posthocs.posthoc_scheffe(df1, val_col='방문빈도', group_col='거주지역', sort=True))\n",
    "\n",
    "# 4-5. 구매유형, 거주지역별 평균 총매출액, 구매유형, 거주지역별 평균 방문빈도\n",
    "평균총매출액 = pd.pivot_table(df1, index='구매유형', columns='거주지역', values='총_매출액', aggfunc=np.mean)\n",
    "print('\\n구매유형, 거주지역별 평균총매출액\\n',평균총매출액)\n",
    "\n",
    "평균방문빈도 = pd.pivot_table(df1, index='구매유형', columns='거주지역', values='방문빈도', aggfunc=np.mean)\n",
    "print('\\n구매유형, 거주지역별 평균방문빈도\\n',평균방문빈도)"
   ]
  },
  {
   "cell_type": "code",
   "execution_count": 18,
   "id": "e106087d",
   "metadata": {},
   "outputs": [],
   "source": [
    "# 28개 세부 그룹에 대한 평균 총매출액과 평균 방문빈도를 하나의 그래프에 표현하는\n",
    "# 평균점 산점도 그래프를 생성(아래)"
   ]
  },
  {
   "cell_type": "code",
   "execution_count": 19,
   "id": "1cb766e3",
   "metadata": {},
   "outputs": [
    {
     "data": {
      "text/plain": [
       "[<matplotlib.lines.Line2D at 0x17e6602f9d0>]"
      ]
     },
     "execution_count": 19,
     "metadata": {},
     "output_type": "execute_result"
    },
    {
     "data": {
      "image/png": "[encoded data removed]",
      "text/plain": [
       "<Figure size 640x480 with 1 Axes>"
      ]
     },
     "metadata": {},
     "output_type": "display_data"
    }
   ],
   "source": [
    "import matplotlib\n",
    "import matplotlib.pyplot as plt \n",
    "\n",
    "X = np.hstack(평균방문빈도.values[0:4])\n",
    "Y = np.hstack(평균총매출액.values[0:4])\n",
    "\n",
    "# 4-6. 한글깨짐현상 방지 \n",
    "matplotlib.rcParams['font.family'] = 'Malgun Gothic' \n",
    "\n",
    "# 4-7. 평균점 산점도 그리기\n",
    "labels = []\n",
    "for i in range(1,5,1):\n",
    "    for j in range(1,8,1):\n",
    "        labels.append(str(i)+str(j))\n",
    "\n",
    "for label, x_count, y_count in zip(labels, X, Y):\n",
    "    plt.annotate(label,\n",
    "xycoords='data',\n",
    "                textcoords='offset points',\n",
    "                xy=(x_count, y_count), \n",
    "                xytext=(5,-5) ) \n",
    "\n",
    "plt.title('평균점 산점도') #차트 제목\n",
    "plt.xlabel('평균 방문빈도') # X축 이름\n",
    "plt.ylabel('평균 총매출액') # Y축 이름\n",
    "plt.plot(X, Y,'o')"
   ]
  },
  {
   "cell_type": "code",
   "execution_count": 20,
   "id": "e3070923",
   "metadata": {},
   "outputs": [],
   "source": [
    "# 다변량분산분석 결과\n",
    "# 거주지역, 구매유형에 따라 총 매출액과 방문빈도의 차이는 모두 유의한 것으로 나타났다.\n",
    "# 구매유형(3)과 구매유형(2)인 고객들이 상대적으로 구매유형(1)과 구매유형(2)인 고객보다 평균 방문빈도가 높은 것으로 나타났고\n",
    "# 거주지역(4, 5, 6, 7) 고객들이 나머지 지역보다 상대적으로 평균 총매출액이 높은 것을 알 수 있다.\n",
    "\n",
    "# 특히 구매유형(3)이자 거주지역(7)인 고객과 구매유형(2)이자 거주지역(7)인 고객들은\n",
    "# 타 영역에 비해 상당히 큰 차이를 보이고 있으므로\n",
    "# 해당 그룹 고객들에 대해서는 각 세그먼트에 적합한 마케팅 전략을 추진하는 것이 바람직하다."
   ]
  },
  {
   "cell_type": "code",
   "execution_count": 21,
   "id": "19b27d12",
   "metadata": {},
   "outputs": [],
   "source": [
    "# 5. 공분산분석\n",
    "### 분석 시나리오\n",
    "# 앞서 거주지역별 총 매출액의 차이가 있는지 일원분산분석을 통해 검증한 적이 있다. \n",
    "# 그러나, 총매출액에는 거주지역뿐만 아니라, 고객들의 방문빈도 역시 유의미한 변수일 수 있다. \n",
    "# 공분산분석을 통해 방문빈도를 통제한 상태에서 거주지역별 총 매출액의 차이를 검정해보자. \n",
    "\n",
    "#### H0 (귀무가설)= 방문빈도를 통제한 상황에서 거주지역에 따른 총 매출액은 차이가 없다.\n",
    "#### H1 (연구가설)= 방문빈도를 통제한 상황에서 거주지역에 따른 총 매출액은 차이가 있다."
   ]
  },
  {
   "cell_type": "code",
   "execution_count": 22,
   "id": "3b7ace65",
   "metadata": {},
   "outputs": [
    {
     "name": "stdout",
     "output_type": "stream",
     "text": [
      "공분산분석 결과\n",
      "      Source                    SS   DF       F  p-unc   np2\n",
      "0      거주지역   696696841275021.500    6   4.046  0.001 0.024\n",
      "1      방문빈도 13701443685723048.000    1 477.393  0.000 0.325\n",
      "2  Residual 28470960329516344.000  992     NaN    NaN   NaN\n",
      "\n",
      "일원분산분석 결과\n",
      "   Source  ddof1  ddof2      F  p-unc   np2\n",
      "0   거주지역      6    993 24.759  0.000 0.130\n"
     ]
    }
   ],
   "source": [
    "# 5-1. 모듈 및 데이터 탑재\n",
    "import pandas as pd\n",
    "import pingouin as pg\n",
    "\n",
    "df = pd.read_csv('Ashopping.csv',sep=',', encoding='CP949')\n",
    "df1=df[['총_매출액','방문빈도','거주지역']]\n",
    "pd.options.display.float_format = '{:.3f}'.format\n",
    "\n",
    "# 5-2. 공분산분석\n",
    "print('공분산분석 결과\\n', pg.ancova(dv='총_매출액', between='거주지역',covar='방문빈도', data=df1))\n",
    "\n",
    "# 5-3. 일원분산분석\n",
    "print('\\n일원분산분석 결과\\n', pg.anova(dv='총_매출액', between='거주지역', data=df1))"
   ]
  },
  {
   "cell_type": "code",
   "execution_count": 23,
   "id": "155d00fb",
   "metadata": {},
   "outputs": [],
   "source": [
    "# 5-4. 결과\n",
    "# 방문빈도를 통제한 거주지역에 따른 총 매출액의 공분산분석은 유의하고, F값은 4.046으로 나타났다.\n",
    "# 즉, 방문빈도 역시 매출액에도 일정한 영향을 주고 있다는 의미이고,\n",
    "# 이에 대한 비교를 위해 방문빈도를 통제하지 않은 분산분석을 수행했을 때 F값은 24.759로 공분산분석 때보다 훨씬 크다.\n",
    "# 이는 거주지역에 따른 매출액 차이를 고려할 때 방문빈도를 통제하지 않으면 거주지역별 차이가 과대평가 될 수 있다는 것을 의미한다.\n",
    "# A쇼핑은 거주지역별 마케팅 전략을 수립할 때 참고해야 할 사항이다."
   ]
  },
  {
   "cell_type": "code",
   "execution_count": null,
   "id": "e5ab9440",
   "metadata": {},
   "outputs": [],
   "source": []
  }
 ],
 "metadata": {
  "kernelspec": {
   "display_name": "Python 3 (ipykernel)",
   "language": "python",
   "name": "python3"
  },
  "language_info": {
   "codemirror_mode": {
    "name": "ipython",
    "version": 3
   },
   "file_extension": ".py",
   "mimetype": "text/x-python",
   "name": "python",
   "nbconvert_exporter": "python",
   "pygments_lexer": "ipython3",
   "version": "3.10.9"
  }
 },
 "nbformat": 4,
 "nbformat_minor": 5
}
