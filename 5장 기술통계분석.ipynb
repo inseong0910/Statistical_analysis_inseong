{
 "cells": [
  {
   "cell_type": "code",
   "execution_count": 1,
   "id": "7a373443",
   "metadata": {},
   "outputs": [
    {
     "name": "stdout",
     "output_type": "stream",
     "text": [
      "    할인권_사용 횟수\n",
      "성별           \n",
      "0   15.986577\n",
      "1   16.034078\n",
      "    할인권_사용 횟수\n",
      "성별           \n",
      "0   69.053873\n",
      "1   69.750602\n",
      "    할인권_사용 횟수\n",
      "성별           \n",
      "0    8.309866\n",
      "1    8.351683\n"
     ]
    }
   ],
   "source": [
    "# 1. 평균, 분산, 표준편차 구하기\n",
    "# 1-1. 모듈 및 데이터 탑재\n",
    "import pandas as pd\n",
    "df = pd.read_csv('Ashopping.csv',sep=',', encoding='CP949')\n",
    "df_1 = df[['할인권_사용 횟수','성별']]\n",
    "\n",
    "#2. 성별 평균, 분산, 표준편차 구하기\n",
    "print(df_1.groupby('성별').mean())\n",
    "print(df_1.groupby('성별').var())\n",
    "print(df_1.groupby('성별').std())"
   ]
  },
  {
   "cell_type": "code",
   "execution_count": 2,
   "id": "21953784",
   "metadata": {},
   "outputs": [],
   "source": [
    "# 할인권 사용 횟수는 약 16회, 표준편차 약 8.3회라고 할 수 있다.\n",
    "# 이러한 패턴은 남성(0)과 여성(1)로 구분하여 판단해도 큰 차이가 없다고 할 수 있다.\n",
    "# 1년에 16회 이상의 평균적인 할인권 사용 횟수를 보인다는 것은\n",
    "# 우선 1년에 약 30회의 할인쿠폰을 제공하는 쇼핑몰A의 입장에서 할인쿠폰 전략이 우수한 성과를 보인다고 할 수 있다.\n",
    "# 이러한 성과는 성별에 따라서도 크게 차이를 보이지 않으므로,\n",
    "# 성별에 따른 개별적인 할인쿠폰 전략을 모색하지 않아도 좋을 것 같다."
   ]
  },
  {
   "cell_type": "code",
   "execution_count": 3,
   "id": "b5f7bb17",
   "metadata": {},
   "outputs": [
    {
     "name": "stdout",
     "output_type": "stream",
     "text": [
      "-0.9706614720587393\n",
      "1.1478245800949547\n"
     ]
    },
    {
     "data": {
      "text/plain": [
       "<Axes: >"
      ]
     },
     "execution_count": 3,
     "metadata": {},
     "output_type": "execute_result"
    },
    {
     "data": {
      "image/png": "[encoded data removed]",
      "text/plain": [
       "<Figure size 640x480 with 1 Axes>"
      ]
     },
     "metadata": {},
     "output_type": "display_data"
    }
   ],
   "source": [
    "# 2. 왜도와 첨도\n",
    "# 2-1. 왜도와 첨도 출력하기\n",
    "print(df.서비스_만족도.skew())\n",
    "print(df.서비스_만족도.kurt())\n",
    "\n",
    "# 2-2. 히스토그램 그리기\n",
    "%matplotlib inline\n",
    "df.서비스_만족도.hist(bins=7)"
   ]
  },
  {
   "cell_type": "code",
   "execution_count": 4,
   "id": "ae7f11fa",
   "metadata": {},
   "outputs": [],
   "source": [
    "# A쇼핑몰 서비스만족도의 왜도 값은 -0.971로 도출되어\n",
    "# 평균에 비해 약간 오른쪽으로 치우친 왼쪽 꼬리를 갖는 분포임을 확인할 수 있다.\n",
    "\n",
    "# 또한 첨도 값은 1.148이 도출되어 정규분포보다 다소 뾰족한 형태의 분포임을 알 수 있다.\n",
    "# 이러한 결과는 히스토그램으로 표현된 분포 그래프를 통해서도 확인할 수 있다.\n",
    "# A쇼핑몰의 고객서비스만족도는 평균값인 5.54에 비해 다소 높게 평가하는 고객들이 많다는 것을 알 수 있다."
   ]
  },
  {
   "cell_type": "code",
   "execution_count": 5,
   "id": "59055cbe",
   "metadata": {},
   "outputs": [],
   "source": [
    "# 3. 기타 기술통계량\n",
    "# 평균, 분산, 표준편차, 왜도, 첨도 외에도 데이터의 특성을 나타내는 기술통계량은 다양하다.\n",
    "# 마케팅 분석 실무에서 가장 많이 활용하는 지표 : 중앙값, 최빈값, 사분위수"
   ]
  },
  {
   "cell_type": "code",
   "execution_count": 6,
   "id": "a30b1799",
   "metadata": {},
   "outputs": [],
   "source": [
    "# 3-1. 스스로에게 질문\n",
    "# A쇼핑몰은 고객들에게 정기적으로 할인쿠폰을 발송하고 있다.\n",
    "# 고객별로 매월 1~2장의 할인쿠폰을 발송하고 있는데,\n",
    "# 고객들의 평균적인 할인쿠폰 사용 빈도는 연간 16회 정도이므로 현재 발송횟수가 적절하다고 생각해왔다.\n",
    "\n",
    "# 그러나, 사용빈도의 평균만으로는 의사결정의 신뢰성이 떨어질 수 있기 때문에 \n",
    "# 중앙값, 최빈값 같은 기술통계량으로 의사결정의 타당성을 검증하고자 한다."
   ]
  },
  {
   "cell_type": "code",
   "execution_count": 8,
   "id": "346c3acd",
   "metadata": {},
   "outputs": [
    {
     "name": "stdout",
     "output_type": "stream",
     "text": [
      "9.0\n",
      "17.0\n",
      "23.0\n",
      "30.0\n",
      "최빈값: 22\n",
      "기술통계량:\n",
      " count    1000.000000\n",
      "mean       16.027000\n",
      "std         8.341334\n",
      "min         1.000000\n",
      "25%         9.000000\n",
      "50%        17.000000\n",
      "75%        23.000000\n",
      "max        30.000000\n",
      "Name: 할인권_사용 횟수, dtype: float64\n"
     ]
    }
   ],
   "source": [
    "import numpy as np\n",
    "\n",
    "# 3-2. 4분위수 구하기\n",
    "print(np.percentile(df['할인권_사용 횟수'], 25))\n",
    "print(np.percentile(df['할인권_사용 횟수'], 50))\n",
    "print(np.percentile(df['할인권_사용 횟수'], 75))\n",
    "print(np.percentile(df['할인권_사용 횟수'], 100))\n",
    "\n",
    "# 3-3. 최빈값 출력\n",
    "print('최빈값:', df['할인권_사용 횟수'].value_counts().idxmax())\n",
    "\n",
    "# 3-4. 기술통계량 출력\n",
    "print('기술통계량:\\n', df['할인권_사용 횟수'].describe())"
   ]
  },
  {
   "cell_type": "code",
   "execution_count": 9,
   "id": "a0b41c61",
   "metadata": {},
   "outputs": [],
   "source": [
    "# 3-5. 결과 해석\n",
    "# 분석결과, 고객들의 할인권 사용 횟수의 최빈값은 22회이며,\n",
    "# 사분위수의 1사분위는 9회, 2사분위는 17회(중앙값과 동일), 3사분위는 23회로 나타났다.\n",
    "# 즉, 중간 수준으로 할인쿠폰을 사용하는 고객은 연 17회 사용이며,\n",
    "# 연간 22회를 사용하는 고객이 가장 많다는 것을 알 수 있다.\n",
    "# 또한, 전체적으로 상위고객으로 갈수록 연간 할인권 사용 횟수가 높아진다는 것을 알 수 있다."
   ]
  },
  {
   "cell_type": "code",
   "execution_count": null,
   "id": "8eee5d41",
   "metadata": {},
   "outputs": [],
   "source": []
  }
 ],
 "metadata": {
  "kernelspec": {
   "display_name": "Python 3 (ipykernel)",
   "language": "python",
   "name": "python3"
  },
  "language_info": {
   "codemirror_mode": {
    "name": "ipython",
    "version": 3
   },
   "file_extension": ".py",
   "mimetype": "text/x-python",
   "name": "python",
   "nbconvert_exporter": "python",
   "pygments_lexer": "ipython3",
   "version": "3.10.9"
  }
 },
 "nbformat": 4,
 "nbformat_minor": 5
}
