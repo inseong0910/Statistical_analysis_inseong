{
 "cells": [
  {
   "cell_type": "code",
   "execution_count": 1,
   "id": "46e163ef",
   "metadata": {},
   "outputs": [],
   "source": [
    "# 요인분석\n",
    "# 다변량 통계기법 가운데 하나\n",
    "# 다수의 변수들간의 상관관계를 바탕으로\n",
    "# 여러 변수들로 측정된 자료를 보다 이해하기 쉬운 형태로 축소, 요약하고자 할 때 사용"
   ]
  },
  {
   "cell_type": "code",
   "execution_count": 2,
   "id": "f9c25c51",
   "metadata": {},
   "outputs": [],
   "source": [
    "# 1. 탐색적 요인분석\n",
    "# 분석 시나리오\n",
    "# A쇼핑 고객만족도 서베이를 통해 수집된 데이터에 대해 요인분석을 수행해보자. \n",
    "# A쇼핑 고객만족도 조사는 상품품질에서 안내표지판 설명까지 총 10개의 항목으로 실행되었다.\n",
    "# 개별 항목들도 중요한 고객만족도 항목들이지만, 보다 효율적인 측정지표 관리를 위해 탐색적 요인분석을 실시하고자 한다."
   ]
  },
  {
   "cell_type": "code",
   "execution_count": 5,
   "id": "3e6817d0",
   "metadata": {},
   "outputs": [
    {
     "name": "stdout",
     "output_type": "stream",
     "text": [
      "요인적재량 :\n",
      "                   0         1\n",
      "상품_품질      0.449335  0.519757\n",
      "상품_다양성     0.320420  0.615774\n",
      "가격_적절성     0.225079  0.709959\n",
      "상품_진열_위치   0.261779  0.734248\n",
      "상품_설명_표시   0.072552  0.754670\n",
      "매장_청결성     0.661093  0.236649\n",
      "공간_편의성     0.609502  0.399518\n",
      "시야_확보성     0.664336  0.212471\n",
      "음향_적절성     0.636674  0.244599\n",
      "안내_표지판_설명  0.790881  0.085513\n",
      "\n",
      "공통성 :\n",
      "                   0\n",
      "상품_품질      0.472049\n",
      "상품_다양성     0.481846\n",
      "가격_적절성     0.554703\n",
      "상품_진열_위치   0.607648\n",
      "상품_설명_표시   0.574791\n",
      "매장_청결성     0.493047\n",
      "공간_편의성     0.531108\n",
      "시야_확보성     0.486487\n",
      "음향_적절성     0.465182\n",
      "안내_표지판_설명  0.632805\n",
      "\n",
      "고유값 :\n",
      "           0\n",
      "0  4.253033\n",
      "1  1.046634\n",
      "2  0.803469\n",
      "3  0.748182\n",
      "4  0.679501\n",
      "5  0.596066\n",
      "6  0.551448\n",
      "7  0.501088\n",
      "8  0.440777\n",
      "9  0.379804\n",
      "\n",
      "요인점수 :\n",
      " [[ 0.45482355  1.31311697]\n",
      " [ 0.04384855 -0.02882105]\n",
      " [-0.54433042  0.04835029]\n",
      " ...\n",
      " [ 0.03251865  0.9035014 ]\n",
      " [-2.41511577 -1.14112745]\n",
      " [ 0.83380422  0.93841954]]\n"
     ]
    }
   ],
   "source": [
    "# 1-1. 모듈 및 데이터 탑재\n",
    "import pandas as pd\n",
    "from factor_analyzer import FactorAnalyzer\n",
    "df = pd.read_csv('Ashopping.csv',sep=',',encoding='CP949') \n",
    "\n",
    "# 1-2. 변수 추출\n",
    "X=df[['상품_품질','상품_다양성','가격_적절성','상품_진열_위치','상품_설명_표시','매장_청결성','공간_편의성','시야_확보성','음향_적절성','안내_표지판_설명']]\n",
    "\n",
    "# 1-3. 탐색적요인분석\n",
    "fa = FactorAnalyzer(method='principal',n_factors=2, rotation='varimax').fit(X)\n",
    "\n",
    "# 1-4. 결과 출력\n",
    "print('요인적재량 :\\n',pd.DataFrame(fa.loadings_, index=X.columns))\n",
    "print('\\n공통성 :\\n', pd.DataFrame(fa.get_communalities(), index=X.columns))\n",
    "ev, v = fa.get_eigenvalues()              \n",
    "print('\\n고유값 :\\n', pd.DataFrame(ev))\n",
    "print('\\n요인점수 :\\n', fa.transform(X.dropna()))"
   ]
  },
  {
   "cell_type": "code",
   "execution_count": 6,
   "id": "e5265ecd",
   "metadata": {},
   "outputs": [],
   "source": [
    "# !pip install factor_analyzer"
   ]
  },
  {
   "cell_type": "code",
   "execution_count": 7,
   "id": "dde2ff82",
   "metadata": {},
   "outputs": [],
   "source": [
    "# 결과\n",
    "# 총 2개의 요인이 적합한 것을 알 수 있다.\n",
    "# 첫 번째 요인에는 매장 청결성, 공간 편의성, 시야 확보성, 음향 적절성, 안내 표지판 설명 등 5개의 변수가,\n",
    "# 두 번째 요인에는 상품 품질, 상품 다양성, 가격 적절성, 상품 진열위치, 상품설명 표시 등 5개의 변수가 묶였다.\n",
    "\n",
    "# 즉, 첫 번째 요인은 매장 만족도, 두 번째 요인은 상품 만족도라고 명명할 수 있다.\n",
    "# A쇼핑의 고객만족도는 크게 상품 만족도와 매장 만족도 요인으로 구분되고,\n",
    "# 각각 5개의 측정지표로 구성되었다고 볼 수 있다.\n",
    "# 한편, 요인점수가 모든 고객에 대해 산출되었음으로 \n",
    "# 상품 만족도와 매장 만족도를 별개의 변수로 활용하여 추후 다양한 다변량 통계분석에 활용할 수 있다."
   ]
  },
  {
   "cell_type": "code",
   "execution_count": null,
   "id": "119a984a",
   "metadata": {},
   "outputs": [],
   "source": []
  }
 ],
 "metadata": {
  "kernelspec": {
   "display_name": "Python 3 (ipykernel)",
   "language": "python",
   "name": "python3"
  },
  "language_info": {
   "codemirror_mode": {
    "name": "ipython",
    "version": 3
   },
   "file_extension": ".py",
   "mimetype": "text/x-python",
   "name": "python",
   "nbconvert_exporter": "python",
   "pygments_lexer": "ipython3",
   "version": "3.10.9"
  }
 },
 "nbformat": 4,
 "nbformat_minor": 5
}
