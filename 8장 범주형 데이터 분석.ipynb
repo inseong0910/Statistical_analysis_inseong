{
 "cells": [
  {
   "cell_type": "code",
   "execution_count": 1,
   "id": "6172587c",
   "metadata": {},
   "outputs": [],
   "source": [
    "# 1. 적합도 검정\n",
    "# 적합도 검정 : 귀무가설에서 제시한 각 범주의 비율이 실제 자료에 적합한지를 알아보는 검정 방법"
   ]
  },
  {
   "cell_type": "code",
   "execution_count": 5,
   "id": "25a8b08f",
   "metadata": {},
   "outputs": [],
   "source": [
    "# 분석 및 해석\n",
    "# A쇼핑은 클레임고객들의 구매 패턴이 어떻게 다른지 파악하고자 클레임 고객들의 구매유형 별 비율의 적합도 검정을 시행하고자 한다.\n",
    "# 기존에 알려진 A 쇼핑의 클레임고객들의 구매 유형별 비율은 1회성 구매형 고객 10%, 실용적 구매형 30%, 명품 구매형 20%,\n",
    "# 그리고 집중 구매형 40%로 알려 있었다."
   ]
  },
  {
   "cell_type": "code",
   "execution_count": 6,
   "id": "2b1abb13",
   "metadata": {},
   "outputs": [],
   "source": [
    "# 이를 위한 가설수립은 다음과 같이 할 수 있다. \n",
    "\n",
    "# H0 (귀무가설)= 클레임 접수 고객의 구매유형별 비율은 1회성 구매형 10%, 실용적 구매형 30%, 명품 구매형 20%, 집중 구매형 40%이다.\n",
    "# H1 (연구가설)= 클레임 접수 고객의 구매유형별 비율은 1회성 구매형 10%, 실용적 구매형 30%, 명품 구매형 20%, 집중 구매형 40%이 아니다. "
   ]
  },
  {
   "cell_type": "code",
   "execution_count": 7,
   "id": "a1b295a3",
   "metadata": {},
   "outputs": [
    {
     "data": {
      "text/html": [
       "<div>\n",
       "<style scoped>\n",
       "    .dataframe tbody tr th:only-of-type {\n",
       "        vertical-align: middle;\n",
       "    }\n",
       "\n",
       "    .dataframe tbody tr th {\n",
       "        vertical-align: top;\n",
       "    }\n",
       "\n",
       "    .dataframe thead th {\n",
       "        text-align: right;\n",
       "    }\n",
       "</style>\n",
       "<table border=\"1\" class=\"dataframe\">\n",
       "  <thead>\n",
       "    <tr style=\"text-align: right;\">\n",
       "      <th>구매유형</th>\n",
       "      <th>1</th>\n",
       "      <th>2</th>\n",
       "      <th>3</th>\n",
       "      <th>4</th>\n",
       "      <th>All</th>\n",
       "    </tr>\n",
       "    <tr>\n",
       "      <th>클레임접수여부</th>\n",
       "      <th></th>\n",
       "      <th></th>\n",
       "      <th></th>\n",
       "      <th></th>\n",
       "      <th></th>\n",
       "    </tr>\n",
       "  </thead>\n",
       "  <tbody>\n",
       "    <tr>\n",
       "      <th>0</th>\n",
       "      <td>24</td>\n",
       "      <td>197</td>\n",
       "      <td>57</td>\n",
       "      <td>263</td>\n",
       "      <td>541</td>\n",
       "    </tr>\n",
       "    <tr>\n",
       "      <th>1</th>\n",
       "      <td>19</td>\n",
       "      <td>120</td>\n",
       "      <td>87</td>\n",
       "      <td>233</td>\n",
       "      <td>459</td>\n",
       "    </tr>\n",
       "    <tr>\n",
       "      <th>All</th>\n",
       "      <td>43</td>\n",
       "      <td>317</td>\n",
       "      <td>144</td>\n",
       "      <td>496</td>\n",
       "      <td>1000</td>\n",
       "    </tr>\n",
       "  </tbody>\n",
       "</table>\n",
       "</div>"
      ],
      "text/plain": [
       "구매유형      1    2    3    4   All\n",
       "클레임접수여부                         \n",
       "0        24  197   57  263   541\n",
       "1        19  120   87  233   459\n",
       "All      43  317  144  496  1000"
      ]
     },
     "execution_count": 7,
     "metadata": {},
     "output_type": "execute_result"
    }
   ],
   "source": [
    "# 1-1. 모듈 및 데이터 탑재\n",
    "import pandas as pd\n",
    "import numpy as np\n",
    "from scipy import stats\n",
    "df = pd.read_csv('Ashopping.csv', sep=',', encoding='CP949')\n",
    "\n",
    "#2. 빈도교차표 생성하기\n",
    "X=pd.crosstab(df.클레임접수여부, df.구매유형, margins=True)\n",
    "\n",
    "X"
   ]
  },
  {
   "cell_type": "code",
   "execution_count": 8,
   "id": "7beda94b",
   "metadata": {},
   "outputs": [
    {
     "data": {
      "text/plain": [
       "Power_divergenceResult(statistic=31.582788671023955, pvalue=6.407672361002909e-07)"
      ]
     },
     "execution_count": 8,
     "metadata": {},
     "output_type": "execute_result"
    }
   ],
   "source": [
    "# 1-2. 관측도수, 기대도수 추출하기\n",
    "Ob = X.values[1,:4]\n",
    "Pr = np.array([0.1,0.3,0.2,0.4])\n",
    "n= X.values[1,4]\n",
    "E= n*Pr\n",
    "\n",
    "# 1-3. 카이제곱 적합도 검정하기\n",
    "stats.chisquare(Ob, E)"
   ]
  },
  {
   "cell_type": "code",
   "execution_count": 9,
   "id": "110fb0b4",
   "metadata": {},
   "outputs": [],
   "source": [
    "# 결과\n",
    "# 적합도 분석 결과 카이제곱 통계량은 31.58, p값은 0.01 이하로 도출되었다. \n",
    "# 따라서 유의수준 99% 수준에서 귀무가설을 기각하고 연구가설을 채택할 수 있다. \n",
    "# 즉, 구매유형별 클레임 접수 여부는 1회성 구매형 10%, 실용적 구매형 30%, \n",
    "# 명품 구매형 20%, 집중구매형 40% 라는 과거의 분포를 따르고 있지 않다고 할 수 있다. \n",
    "# 예상보다 1회성 구매형 구매자들의 클레임은 높지 않으며, 집중구매형의 경우 50%가 넘는 클레임 비율을 보이고 있다. \n",
    "# 따라서, A 쇼핑은 집중구매형 고객들의 고객만족도를 높이는 방안을 모색해야 한다."
   ]
  },
  {
   "cell_type": "code",
   "execution_count": 10,
   "id": "e4d7b190",
   "metadata": {},
   "outputs": [],
   "source": [
    "# 2. 독립성 검정\n",
    "# 두 개의 범주형 변수간에 서로 연관성이 있는지, 독립적인지를\n",
    "# 카이제곱 검정을 통해 통계적으로 판단하는 방법\n",
    "\n",
    "# 분석 및 해석\n",
    "# A쇼핑의 클레임 문제를 다시 한번 다루어 보자. \n",
    "# A쇼핑은 이번에 클레임을 제기하는 고객은 성별과 무관하지 않을 것 같다는 전제를 가지고 \n",
    "# 클레임 접수여부와 성별간의 독립성 검정을 수행해보고자 한다."
   ]
  },
  {
   "cell_type": "code",
   "execution_count": 11,
   "id": "4460631c",
   "metadata": {},
   "outputs": [],
   "source": [
    "# 이를 위한 가설 수립은 다음과 같이 할 수 있다. \n",
    "# H0 (귀무가설)= 클레임 접수 여부와 성별은 연관성이 없다.\n",
    "# H1 (연구가설)= 클레임 접수 여부와 성별은 연관성이 있다."
   ]
  },
  {
   "cell_type": "code",
   "execution_count": 12,
   "id": "db0bd390",
   "metadata": {},
   "outputs": [
    {
     "data": {
      "text/plain": [
       "Chi2ContingencyResult(statistic=106.43790651350751, pvalue=5.911607287197053e-25, dof=1, expected_freq=array([[ 80.609,  68.391],\n",
       "       [460.391, 390.609]]))"
      ]
     },
     "execution_count": 12,
     "metadata": {},
     "output_type": "execute_result"
    }
   ],
   "source": [
    "import pandas as pd\n",
    "import numpy as np\n",
    "from scipy import stats\n",
    "df = pd.read_csv('Ashopping.csv', sep=',', encoding='CP949')\n",
    "\n",
    "# 2-1. 빈도교차표 생성하기\n",
    "X=pd.crosstab(df.성별, df.클레임접수여부, margins=False)\n",
    "\n",
    "# 2-2. 카이제곱 독립성 검정하기\n",
    "stats.chi2_contingency(X)"
   ]
  },
  {
   "cell_type": "code",
   "execution_count": 13,
   "id": "a5755418",
   "metadata": {},
   "outputs": [],
   "source": [
    "# 2-3. 결과\n",
    "# 독립성 검정 결과 카이제곱 통계량은 106.437, p값은 0.01이하로 도출되었다. \n",
    "# 따라서 유의수준 99% 수준에서 귀무가설을 기각하고 A 쇼핑 고객들의 성별과 클레임 접수 여부는 연관성 있다는 연구가설을 채택 할 수 있다. \n",
    "# 분석 결과에 따라, 남성과 여성 성별에 따라 다른 방식의 고객서비스를 제공함으로써 고객의 불만을 최소화 시킬 수 있는 방안을 모색해야 한다."
   ]
  },
  {
   "cell_type": "code",
   "execution_count": 14,
   "id": "e1273a90",
   "metadata": {},
   "outputs": [],
   "source": [
    "# 3. 동질성 검정\n",
    "# 분석 및 해석\n",
    "# A쇼핑은 자사가 관리하는 구매유형 4가지의 비율이 청년층 그룹과 중장년층 그룹에 따라 동질적인지 검토하여 \n",
    "# 연령대별 마케팅 전략에 활용하고자 한다. 이를 위해 고객연령 그룹에 대한 구매유형 비율의 동질성 검정을 실시해보자.\n",
    "# A쇼핑에서 사용하는 고객 구매유형과 고객 나이대에 대한 코드는 아래 표와 같다.(생략)"
   ]
  },
  {
   "cell_type": "code",
   "execution_count": 15,
   "id": "89b4ed2d",
   "metadata": {},
   "outputs": [],
   "source": [
    "# 고객 연령대는 총 9개의 세부 그룹으로 이루어져 있으나, \n",
    "# 39세 이하를 청년층 그룹으로, 40세 이상을 중장년층 그룹으로 분류하여\n",
    "# 두 개의 다른 모집단에서 추출한 표본이라고 간주하고 실습을 진행해보자.\n",
    "\n",
    "# 이를 위한 가설 수립은 다음과 같이 할 수 있다. \n",
    "# H0 (귀무가설)= 청년층과 중장년층의 구매 유형 비율은 동일하다.\n",
    "# H1 (연구가설)= 청년층과 중장년층의 구매 유형 비율은 동일하지 않다."
   ]
  },
  {
   "cell_type": "code",
   "execution_count": 16,
   "id": "5074392f",
   "metadata": {},
   "outputs": [
    {
     "name": "stderr",
     "output_type": "stream",
     "text": [
      "C:\\Users\\USER\\AppData\\Local\\Temp\\ipykernel_15212\\1575632904.py:16: FutureWarning: The frame.append method is deprecated and will be removed from pandas in a future version. Use pandas.concat instead.\n",
      "  df3 = df1_sample.append(df2_sample)\n"
     ]
    },
    {
     "data": {
      "text/plain": [
       "Chi2ContingencyResult(statistic=8.714970024248375, pvalue=0.033330661685866646, dof=3, expected_freq=array([[ 9., 66., 28., 97.],\n",
       "       [ 9., 66., 28., 97.]]))"
      ]
     },
     "execution_count": 16,
     "metadata": {},
     "output_type": "execute_result"
    }
   ],
   "source": [
    "# 3-1. 모듈 및 데이터 탑재\n",
    "import pandas as pd\n",
    "import numpy as np\n",
    "from scipy import stats\n",
    "df = pd.read_csv('Ashopping.csv', sep=',', encoding='CP949')\n",
    "\n",
    "# 3-2. 청년층, 중장년층 전처리\n",
    "df[\"고객연령대\"] = \"\"\n",
    "df[\"고객연령대\"] = np.where(df[\"고객_나이대\"]<= 5, '1', '2') \n",
    "\n",
    "# 3-3. 두 모집단 랜덤표본추출\n",
    "df1 = df.loc[df.고객연령대=='1']\n",
    "df2 = df.loc[df.고객연령대=='2']\n",
    "df1_sample = df1.sample(200, random_state = 29)\n",
    "df2_sample = df2.sample(200, random_state = 29)\n",
    "df3 = df1_sample.append(df2_sample) \n",
    "\n",
    "# 3-4. 빈도교차표 생성하기\n",
    "X = pd.crosstab(df3.고객연령대, df3.구매유형, margins=False)\n",
    "\n",
    "# 3-5. 카이제곱 동질성 검정하기\n",
    "stats.chi2_contingency(X)"
   ]
  },
  {
   "cell_type": "code",
   "execution_count": 17,
   "id": "10fcdbd4",
   "metadata": {},
   "outputs": [],
   "source": [
    "# 3-6. 결과\n",
    "# 동질성 검정 결과 카이제곱 통계량은 8.71, p값은 0.03으로 도출되었다. \n",
    "# 따라서 유의수준 95% 수준에서 연구가설이 채택되어 \n",
    "# A 쇼핑 고객들의 청년층과 중장년층의 구매유형 분포는 동질적이지 않다는 결론을 낼 수 있다. \n",
    "# 청년층의 경우 실속 구매형과 집중 구매형의 비중이 높으며, \n",
    "# 중장년층의 경우 청년층보다 구매유형 별 비율 편차가 크지 않지만 \n",
    "# 명품 구매형의 비중이 상대적으로 높기 때문에 이를 고려한 마케팅 전략을 수립해야 할 것이다."
   ]
  },
  {
   "cell_type": "code",
   "execution_count": null,
   "id": "36b9d2ea",
   "metadata": {},
   "outputs": [],
   "source": []
  }
 ],
 "metadata": {
  "kernelspec": {
   "display_name": "Python 3 (ipykernel)",
   "language": "python",
   "name": "python3"
  },
  "language_info": {
   "codemirror_mode": {
    "name": "ipython",
    "version": 3
   },
   "file_extension": ".py",
   "mimetype": "text/x-python",
   "name": "python",
   "nbconvert_exporter": "python",
   "pygments_lexer": "ipython3",
   "version": "3.10.9"
  }
 },
 "nbformat": 4,
 "nbformat_minor": 5
}
