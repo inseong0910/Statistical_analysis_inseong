{
 "cells": [
  {
   "cell_type": "code",
   "execution_count": 1,
   "id": "eef1fa83",
   "metadata": {},
   "outputs": [],
   "source": [
    "## 7.1 수치형 변수의 상관관계 분석\n",
    "# 분석 시나리오\n",
    "# A쇼핑은 매출액과 높은 연관성을 지닌 고객 행태 변수가 무엇인지 파악하고자 하며, \n",
    "# 이를 위해 일차적으로 방문 빈도와 구매 카테고리 수라는 변수를 선별하였다. \n",
    "# 상관관계 분석을 위한 귀무가설과 연구가설은 다음과 같다. \n",
    "\n",
    "# H0 (귀무가설)= 총 매출액과 방문빈도,구매 카테고리 수 간의 선형적인 관계가 존재하지 않는다.\n",
    "# H1 (연구가설)= 총 매출액과 방문빈도,구매 카테고리 수 간의 선형적인 관계가 존재한다."
   ]
  },
  {
   "cell_type": "code",
   "execution_count": 2,
   "id": "16ba6d57",
   "metadata": {},
   "outputs": [],
   "source": [
    "# 수치형 변수의 상관관계 분석을 할 경우에는 피어슨 상관계수를 이용한다.\n",
    "# 각 총 매출액과 방문빈도 구매카테고리수 간의 선형적인 연관성이 있는지 확인"
   ]
  },
  {
   "cell_type": "code",
   "execution_count": 3,
   "id": "42a5efc4",
   "metadata": {},
   "outputs": [
    {
     "name": "stdout",
     "output_type": "stream",
     "text": [
      "PearsonRResult(statistic=0.6311706453193395, pvalue=3.051960449687332e-112)\n",
      "PearsonRResult(statistic=0.30834691323967117, pvalue=1.8121422756812584e-23)\n",
      "PearsonRResult(statistic=0.39586072218464485, pvalue=7.345432750388936e-39)\n"
     ]
    }
   ],
   "source": [
    "# 7-1-1. 모듈 및 데이터 탑재\n",
    "import pandas as pd\n",
    "from scipy import stats\n",
    "df = pd.read_csv('Ashopping.csv',sep=',', encoding='CP949')\n",
    "df1 = df[['총_매출액','방문빈도','구매_카테고리_수']]\n",
    "\n",
    "# -2. 피어슨 상관계수 출력\n",
    "print(stats.pearsonr(df1.총_매출액, df1.방문빈도))\n",
    "print(stats.pearsonr(df1.총_매출액, df1.구매_카테고리_수))\n",
    "print(stats.pearsonr(df1.방문빈도, df1.구매_카테고리_수))"
   ]
  },
  {
   "cell_type": "code",
   "execution_count": 4,
   "id": "804b79ca",
   "metadata": {},
   "outputs": [],
   "source": [
    "# 총 매출액과 방문빈도의 상관계수는 0.63으로 양의 상관관계가 있다."
   ]
  },
  {
   "cell_type": "code",
   "execution_count": 5,
   "id": "041d66a5",
   "metadata": {},
   "outputs": [
    {
     "data": {
      "text/html": [
       "<div>\n",
       "<style scoped>\n",
       "    .dataframe tbody tr th:only-of-type {\n",
       "        vertical-align: middle;\n",
       "    }\n",
       "\n",
       "    .dataframe tbody tr th {\n",
       "        vertical-align: top;\n",
       "    }\n",
       "\n",
       "    .dataframe thead th {\n",
       "        text-align: right;\n",
       "    }\n",
       "</style>\n",
       "<table border=\"1\" class=\"dataframe\">\n",
       "  <thead>\n",
       "    <tr style=\"text-align: right;\">\n",
       "      <th></th>\n",
       "      <th>총_매출액</th>\n",
       "      <th>방문빈도</th>\n",
       "      <th>구매_카테고리_수</th>\n",
       "    </tr>\n",
       "  </thead>\n",
       "  <tbody>\n",
       "    <tr>\n",
       "      <th>총_매출액</th>\n",
       "      <td>1.000000</td>\n",
       "      <td>0.631171</td>\n",
       "      <td>0.308347</td>\n",
       "    </tr>\n",
       "    <tr>\n",
       "      <th>방문빈도</th>\n",
       "      <td>0.631171</td>\n",
       "      <td>1.000000</td>\n",
       "      <td>0.395861</td>\n",
       "    </tr>\n",
       "    <tr>\n",
       "      <th>구매_카테고리_수</th>\n",
       "      <td>0.308347</td>\n",
       "      <td>0.395861</td>\n",
       "      <td>1.000000</td>\n",
       "    </tr>\n",
       "  </tbody>\n",
       "</table>\n",
       "</div>"
      ],
      "text/plain": [
       "              총_매출액      방문빈도  구매_카테고리_수\n",
       "총_매출액      1.000000  0.631171   0.308347\n",
       "방문빈도       0.631171  1.000000   0.395861\n",
       "구매_카테고리_수  0.308347  0.395861   1.000000"
      ]
     },
     "execution_count": 5,
     "metadata": {},
     "output_type": "execute_result"
    }
   ],
   "source": [
    "# -3. 상관관계 테이블 출력\n",
    "# 피어슨 상관계수 출력\n",
    "df1.corr(method = 'pearson')"
   ]
  },
  {
   "cell_type": "code",
   "execution_count": 6,
   "id": "fbc3cbe3",
   "metadata": {},
   "outputs": [],
   "source": [
    "# 7-2. 부분 상관관계 분석\n",
    "# 분석 시나리오\n",
    "# 앞서 A쇼핑은 총 매출액과 방문빈도, 구매 카테고리 수 간에 유의한 상관관계를 가지고 있고, \n",
    "# 특히 매출액과 방문빈도는 매우 높은 상관관계가 있다는 것을 알았다. \n",
    "# 그러나, 매출액과 방문빈도간의 상관관계는 구매 카테고리 수에 의해 영향을 받을 수 있다는 의견이 있어 \n",
    "# 구매 카테고리 수를 통제한 상태에서 매출액과 방문빈도간의 순수한 상관관계를 파악해볼 필요가 있다. \n",
    "# 이를 위해 아래와 같이 가설을 수립할 수 있다. \n",
    "\n",
    "# H0 (귀무가설)= 구매카테고리 수가  통제된 상황에서 총 매출액과 방문빈도 간에는 유의한 선형 관계를 갖지 않는다.\n",
    "# H1 (연구가설)= 구매카테고리 수가  통제된 상황에서 총 매출액과 방문빈도 간에는 유의한 선형 관계를 갖는다."
   ]
  },
  {
   "cell_type": "code",
   "execution_count": 10,
   "id": "7c5b9d27",
   "metadata": {},
   "outputs": [
    {
     "data": {
      "text/html": [
       "<div>\n",
       "<style scoped>\n",
       "    .dataframe tbody tr th:only-of-type {\n",
       "        vertical-align: middle;\n",
       "    }\n",
       "\n",
       "    .dataframe tbody tr th {\n",
       "        vertical-align: top;\n",
       "    }\n",
       "\n",
       "    .dataframe thead th {\n",
       "        text-align: right;\n",
       "    }\n",
       "</style>\n",
       "<table border=\"1\" class=\"dataframe\">\n",
       "  <thead>\n",
       "    <tr style=\"text-align: right;\">\n",
       "      <th></th>\n",
       "      <th>n</th>\n",
       "      <th>r</th>\n",
       "      <th>CI95%</th>\n",
       "      <th>p-val</th>\n",
       "    </tr>\n",
       "  </thead>\n",
       "  <tbody>\n",
       "    <tr>\n",
       "      <th>pearson</th>\n",
       "      <td>1000</td>\n",
       "      <td>0.582794</td>\n",
       "      <td>[0.54, 0.62]</td>\n",
       "      <td>6.223289e-92</td>\n",
       "    </tr>\n",
       "  </tbody>\n",
       "</table>\n",
       "</div>"
      ],
      "text/plain": [
       "            n         r         CI95%         p-val\n",
       "pearson  1000  0.582794  [0.54, 0.62]  6.223289e-92"
      ]
     },
     "execution_count": 10,
     "metadata": {},
     "output_type": "execute_result"
    }
   ],
   "source": [
    "# 편 상관계수 출력\n",
    "from pingouin import partial_corr\n",
    "partial_corr(data=df1, x='총_매출액', y='방문빈도', covar='구매_카테고리_수')"
   ]
  },
  {
   "cell_type": "code",
   "execution_count": 11,
   "id": "2cd8ba1a",
   "metadata": {},
   "outputs": [],
   "source": [
    "# !pip install pingouin"
   ]
  },
  {
   "cell_type": "code",
   "execution_count": 13,
   "id": "7177ae4d",
   "metadata": {},
   "outputs": [],
   "source": [
    "# 편(부분) 상관관계 분석결과 구매 카테고리 수를 통제한 상태에서 \n",
    "# 총 매출액과 방문빈도 간의 상관계수는 0.583 (유의확률 0.001이하)로 도출되었다. \n",
    "# 따라서, 총 매출액과 방문빈도간의 상관관계는 여전히 유의하다고 볼 수 있으나, \n",
    "# 구매카테고리 수를 통제하지 않은 상태에서의 총매출액과 방문빈도와의 상관계수인 0.631보다는 상관계수가 약해졌다고 볼 수 있다. \n",
    "\n",
    "# 따라서, 방문빈도가 고객들의 총 매출액에 많은 영향을 주는 변수임에는 분명하지만, \n",
    "# 고객들의 구매다양성을 나타내는 구매 카테고리 수를 전혀 고려하지 않는다면 \n",
    "# 방문빈도와 매출액간의 관계는 생각보다 크지 않다는 것을 알 수 있다. \n",
    "# 구매 카테고리 수가 매출액과의 직접적인 상관관계가 크지 않지만, \n",
    "# 방문빈도와 매출액간의 관계에 영향을 미치므로 마케팅 전략 수립 시 함께 고민해야 할 필요가 있다."
   ]
  },
  {
   "cell_type": "code",
   "execution_count": 14,
   "id": "cfbce991",
   "metadata": {},
   "outputs": [],
   "source": [
    "# 7-3. 순서형 변수의 상관관계 분석\n",
    "# 분석 시나리오\n",
    "# A 쇼핑은 고객들의 객단가 즉, 1회 평균매출액이 높은 고객 100명과 방문빈도가 높은 고객 100명을 선별하여 \n",
    "# 특별한 사은행사를 기획하고자 한다. 두 가지 변수를 기준으로 순위를 선정하였을 때 선별된 고객들이 동질적이라면 \n",
    "# 구태여 두 가지 기준으로 고객을 추출하지 않아도 될 것이다. 이를 위해 수립된 가설은 다음과 같다.\n",
    "\n",
    "# H0 (귀무가설)= A쇼핑 고객들의 1회 평균 매출액 순위와 방문빈도 순위는 연관성이 없다.\n",
    "# H1 (연구가설)= A쇼핑 고객들의 1회 평균 매출액 순위와 방문빈도 순위는 연관성이 있다."
   ]
  },
  {
   "cell_type": "code",
   "execution_count": 15,
   "id": "4de993a9",
   "metadata": {},
   "outputs": [
    {
     "data": {
      "text/plain": [
       "SignificanceResult(statistic=-0.4988411248473936, pvalue=4.929293870381245e-64)"
      ]
     },
     "execution_count": 15,
     "metadata": {},
     "output_type": "execute_result"
    }
   ],
   "source": [
    "# -1. 모듈 및 데이터 탑재\n",
    "df1 = df[['1회_평균매출액','방문빈도']]\n",
    "\n",
    "# -2. 스피어만 상관계수 출력\n",
    "stats.spearmanr(df1['1회_평균매출액'],df1['방문빈도'])"
   ]
  },
  {
   "cell_type": "code",
   "execution_count": 16,
   "id": "cc4ce295",
   "metadata": {},
   "outputs": [],
   "source": [
    "# 결과\n",
    "# 고객들의 1회 평균 매출액과 방문빈도를 서열화 한 후 스피어만 서열 상관관계 분석을 실시한 결과 \n",
    "# 두 변수간의 상관관계는 -0.498 (유의확률 0.001 이하)로 확인되었다.\n",
    "# 즉, 두 서열변수간의 상관관계는 존재하지만, 상관관계의 방향이 음의 방향으로 결정되었다. \n",
    "# 방문빈도가 높은 고객이 오히려 1회 평균 구매액 수준에서는 더 떨어지는 것으로 알 수 있다.\n",
    "# 따라서, 두 기준의 서열화된 고객목록이 상당히 달라질 것이므로,\n",
    "# 캠페인 표적고객으로서 두 가지 기준을 각각 적용해보고,\n",
    "# 중복된 고객목록을 제거한 후에 사은행사 초대권을 발송해야 좋을 것이다."
   ]
  },
  {
   "cell_type": "code",
   "execution_count": 17,
   "id": "d9bf3c60",
   "metadata": {},
   "outputs": [],
   "source": [
    "# 7-4. 정준 상관분석\n",
    "# 분석 시나리오\n",
    "# A 쇼핑은 제품 만족도와 매장 만족도 사이에 연관이 있는지 알아보고 이를 마케팅 기획에 참고하고자 한다. \n",
    "# 먼저, A 쇼핑 마케팅 팀은 제품 만족도에 해당하는 가격, 디자인, 품질 만족도와 매장 만족도에 해당하는 \n",
    "# 직원 서비스, 매장 시설, 고객관리 변수에 대한 만족도를 설문 조사한 후, \n",
    "# 이 데이터를 바탕으로 제품 만족도 변수 그룹과 매장 만족도 변수 그룹으로 나눠 정준상관분석을 실시하고자 한다. \n",
    "# 이를 위해 수립된 가설은 다음과 같다.\n",
    "\n",
    "# H0 (귀무가설)= 제품 만족도는 매장 만족도와 연관성이 없다.\n",
    "# H1 (연구가설)= 제품 만족도는 매장 만족도와 유의한 상관관계를 가지고 있다."
   ]
  },
  {
   "cell_type": "code",
   "execution_count": 18,
   "id": "a03c0242",
   "metadata": {},
   "outputs": [
    {
     "name": "stdout",
     "output_type": "stream",
     "text": [
      "   품질  가격  디자인  직원 서비스  매장 시설  고객관리\n",
      "0   8  10   71      72      9    27\n",
      "1  83  21   94      63      7    77\n",
      "2  81  62   74      96      7    32\n",
      "3  75  74   98      96      3    55\n",
      "4  34  76   98      84      6    95\n",
      "[[-0.55451512]\n",
      " [-0.12301628]\n",
      " [ 0.40708859]\n",
      " [ 1.4861872 ]\n",
      " [ 1.8393597 ]\n",
      " [-0.18638005]\n",
      " [-0.47604906]\n",
      " [-1.10459412]\n",
      " [-0.72231536]\n",
      " [ 0.02423555]\n",
      " [-0.69744765]\n",
      " [ 0.54958654]\n",
      " [-0.8098459 ]\n",
      " [ 0.36770595]]\n",
      "\n",
      " [[-0.29828858]\n",
      " [ 0.51338449]\n",
      " [ 0.95000731]\n",
      " [ 1.76514223]\n",
      " [ 1.81062484]\n",
      " [-0.74632557]\n",
      " [-1.67676657]\n",
      " [-1.00578133]\n",
      " [-1.40361614]\n",
      " [ 1.38766197]\n",
      " [-1.28827534]\n",
      " [-0.3120564 ]\n",
      " [ 0.23113188]\n",
      " [ 0.07315722]]\n"
     ]
    }
   ],
   "source": [
    "# -1. 모듈 및 데이터 탑재\n",
    "import pandas as pd\n",
    "import numpy as np\n",
    "from sklearn.cross_decomposition import CCA\n",
    "from scipy import stats\n",
    "\n",
    "df = pd.read_csv('CCA.csv',sep=',', encoding='CP949')\n",
    "U=df[['품질', '가격', '디자인']]\n",
    "V=df[['직원 서비스', '매장 시설', '고객관리']]\n",
    "print(df.head())\n",
    "\n",
    "# -2. 정준변수 구하기 \n",
    "cca = CCA(n_components=1).fit(U, V)\n",
    "U_c, V_c = cca.transform(U, V)\n",
    "U_c1=pd.DataFrame(U_c)[0]\n",
    "V_c1=pd.DataFrame(V_c)[0]\n",
    "print(U_c)\n",
    "print('\\n',V_c)"
   ]
  },
  {
   "cell_type": "code",
   "execution_count": 19,
   "id": "9dcc8207",
   "metadata": {},
   "outputs": [
    {
     "name": "stdout",
     "output_type": "stream",
     "text": [
      "제1정준상관계수: PearsonRResult(statistic=0.7717687943183484, pvalue=0.0012226670192390231)\n",
      "제품 만족도 정준변수와 해당 변수들간 정준적재량: [0.35045604 0.77461847 0.55191153]\n",
      "제품 만족도 정준변수와 매장 만족도 변수들간 교차적재량: [ 0.70598452 -0.0438384   0.5889048 ]\n",
      "매장 만족도 정준변수와 해당 변수들간 정준적재량: [ 0.91476168 -0.0568025   0.76305858]\n",
      "매장 만족도 정준변수와 제품 만족도 변수들간 교차적재량: [0.27044132 0.5978383  0.42592516]\n"
     ]
    }
   ],
   "source": [
    "# -3. 정준상관계수 구하기\n",
    "CC1=stats.pearsonr(U_c1,V_c1)\n",
    "print('제1정준상관계수:', CC1)\n",
    "\n",
    "# -4. 정준적재량, 교차적재량 구하기\n",
    "print('제품 만족도 정준변수와 해당 변수들간 정준적재량:',np.corrcoef(U_c1.T, U.T)[0,1:4])\n",
    "print('제품 만족도 정준변수와 매장 만족도 변수들간 교차적재량:',np.corrcoef(U_c1.T, V.T)[0,1:])\n",
    "print('매장 만족도 정준변수와 해당 변수들간 정준적재량:',np.corrcoef(V_c1.T, V.T)[0,1:]) \n",
    "print('매장 만족도 정준변수와 제품 만족도 변수들간 교차적재량:',np.corrcoef(V_c1.T, U.T)[0,1:4])"
   ]
  },
  {
   "cell_type": "code",
   "execution_count": 20,
   "id": "95e27111",
   "metadata": {},
   "outputs": [],
   "source": [
    "# -5. 결과\n",
    "# 제품 만족도와 매장 만족도를 나타내는 변수 그룹간의 정준상관분석을 실시한 결과 \n",
    "# 제1 정준상관계수는 0.77, p-value값은 0.00 이하로 유의수준 99% 수준으로 유의미하며, 강한 양의 상관관계가 있음을 확인할 수 있다.\n",
    "\n",
    "# 한편, 정준적재량을 통해 각 정준변수의 구성관계를 살펴보면, 제품 만족도의 경우 가격과 디자인 변수가 중요한 역할을 하고 있으며, \n",
    "# 매장 만족도의 경우 직원 서비스와 고객관리 변수가 중요한 역할을 하고 있는 것으로 밝혀졌다. \n",
    "# 또한, 교차적재량을 통해 정준변수 상호간의 상세 영향요인을 살펴볼 수 있는데, \n",
    "# 정준적재량을 통해 나타난 결과와 유사하게 제품 만족도는 매장만족도의 직원 서비스와 고객관리 수준에 의해 결정되고, \n",
    "# 매장 만족도는 제품 만족도의 가격과 디자인 수준에 의해 결정되는 것을 알 수 있다. \n",
    "\n",
    "# 따라서, A 쇼핑은 전체적인 고객만족을 위해서 제품만족도와 매장만족도 모두 높일 수 있는 방안을 고려해야 하는데, \n",
    "# 이를 위해 품질보다는 가격과 디자인적인 측면에 관심을 기울이고, \n",
    "# 매장 만족도를 위해 직원들에 대한 교육과 현장 직원들의 고객관리 업무에 대한 충실한 교육이 중요하다는 것을 알 수 있다."
   ]
  },
  {
   "cell_type": "code",
   "execution_count": null,
   "id": "5004bfae",
   "metadata": {},
   "outputs": [],
   "source": []
  }
 ],
 "metadata": {
  "kernelspec": {
   "display_name": "Python 3 (ipykernel)",
   "language": "python",
   "name": "python3"
  },
  "language_info": {
   "codemirror_mode": {
    "name": "ipython",
    "version": 3
   },
   "file_extension": ".py",
   "mimetype": "text/x-python",
   "name": "python",
   "nbconvert_exporter": "python",
   "pygments_lexer": "ipython3",
   "version": "3.10.9"
  }
 },
 "nbformat": 4,
 "nbformat_minor": 5
}
